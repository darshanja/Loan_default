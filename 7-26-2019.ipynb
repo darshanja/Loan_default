{
  "cells": [
    {
      "metadata": {
        "trusted": true
      },
      "cell_type": "code",
      "source": "import numpy as np\nimport pandas as pd",
      "execution_count": 1,
      "outputs": []
    },
    {
      "metadata": {
        "trusted": true
      },
      "cell_type": "code",
      "source": "data = pd.read_csv(\"loan_default.csv\")",
      "execution_count": 2,
      "outputs": []
    },
    {
      "metadata": {
        "trusted": true
      },
      "cell_type": "code",
      "source": "data.head()",
      "execution_count": 156,
      "outputs": [
        {
          "output_type": "execute_result",
          "execution_count": 156,
          "data": {
            "text/html": "<div>\n<style scoped>\n    .dataframe tbody tr th:only-of-type {\n        vertical-align: middle;\n    }\n\n    .dataframe tbody tr th {\n        vertical-align: top;\n    }\n\n    .dataframe thead th {\n        text-align: right;\n    }\n</style>\n<table border=\"1\" class=\"dataframe\">\n  <thead>\n    <tr style=\"text-align: right;\">\n      <th></th>\n      <th>Unnamed: 0</th>\n      <th>Loan.Status</th>\n      <th>Current.Loan.Amount</th>\n      <th>Term</th>\n      <th>Credit.Score</th>\n      <th>Years.in.current.job</th>\n      <th>Home.Ownership</th>\n      <th>Annual.Income</th>\n      <th>Purpose</th>\n      <th>Monthly.Debt</th>\n      <th>Years.of.Credit.History</th>\n      <th>Months.since.last.delinquent</th>\n      <th>Number.of.Open.Accounts</th>\n      <th>Number.of.Credit.Problems</th>\n      <th>Current.Credit.Balance</th>\n      <th>Maximum.Open.Credit</th>\n      <th>Bankruptcies</th>\n      <th>Tax.Liens</th>\n    </tr>\n  </thead>\n  <tbody>\n    <tr>\n      <th>0</th>\n      <td>1</td>\n      <td>Charged Off</td>\n      <td>12232</td>\n      <td>Short Term</td>\n      <td>7280.0</td>\n      <td>&lt; 1 year</td>\n      <td>Rent</td>\n      <td>46643.0</td>\n      <td>Debt_Consolidation</td>\n      <td>777.39</td>\n      <td>18.0</td>\n      <td>10.0</td>\n      <td>12</td>\n      <td>0</td>\n      <td>6762</td>\n      <td>43088.0</td>\n      <td>0.0</td>\n      <td>0.0</td>\n    </tr>\n    <tr>\n      <th>1</th>\n      <td>2</td>\n      <td>Charged Off</td>\n      <td>25014</td>\n      <td>Long Term</td>\n      <td>7330.0</td>\n      <td>10+ years</td>\n      <td>Home Mortgage</td>\n      <td>81099.0</td>\n      <td>Debt_Consolidation</td>\n      <td>892.09</td>\n      <td>26.7</td>\n      <td>NaN</td>\n      <td>14</td>\n      <td>0</td>\n      <td>35706</td>\n      <td>42765.0</td>\n      <td>0.0</td>\n      <td>0.0</td>\n    </tr>\n    <tr>\n      <th>2</th>\n      <td>3</td>\n      <td>Charged Off</td>\n      <td>16117</td>\n      <td>Short Term</td>\n      <td>7240.0</td>\n      <td>9 years</td>\n      <td>Home Mortgage</td>\n      <td>60438.0</td>\n      <td>Home_Improvements</td>\n      <td>1244.02</td>\n      <td>16.7</td>\n      <td>32.0</td>\n      <td>11</td>\n      <td>1</td>\n      <td>11275</td>\n      <td>5911.0</td>\n      <td>1.0</td>\n      <td>0.0</td>\n    </tr>\n    <tr>\n      <th>3</th>\n      <td>4</td>\n      <td>Charged Off</td>\n      <td>11716</td>\n      <td>Short Term</td>\n      <td>7400.0</td>\n      <td>3 years</td>\n      <td>Rent</td>\n      <td>34171.0</td>\n      <td>Debt_Consolidation</td>\n      <td>990.94</td>\n      <td>10.0</td>\n      <td>NaN</td>\n      <td>21</td>\n      <td>0</td>\n      <td>7009</td>\n      <td>30172.0</td>\n      <td>0.0</td>\n      <td>0.0</td>\n    </tr>\n    <tr>\n      <th>4</th>\n      <td>5</td>\n      <td>Charged Off</td>\n      <td>9789</td>\n      <td>Long Term</td>\n      <td>6860.0</td>\n      <td>10+ years</td>\n      <td>Home Mortgage</td>\n      <td>47003.0</td>\n      <td>Home_Improvements</td>\n      <td>503.71</td>\n      <td>16.7</td>\n      <td>25.0</td>\n      <td>13</td>\n      <td>1</td>\n      <td>16913</td>\n      <td>10851.0</td>\n      <td>1.0</td>\n      <td>0.0</td>\n    </tr>\n  </tbody>\n</table>\n</div>",
            "text/plain": "   Unnamed: 0  Loan.Status  Current.Loan.Amount        Term  Credit.Score  \\\n0           1  Charged Off                12232  Short Term        7280.0   \n1           2  Charged Off                25014   Long Term        7330.0   \n2           3  Charged Off                16117  Short Term        7240.0   \n3           4  Charged Off                11716  Short Term        7400.0   \n4           5  Charged Off                 9789   Long Term        6860.0   \n\n  Years.in.current.job Home.Ownership  Annual.Income             Purpose  \\\n0             < 1 year           Rent        46643.0  Debt_Consolidation   \n1            10+ years  Home Mortgage        81099.0  Debt_Consolidation   \n2              9 years  Home Mortgage        60438.0   Home_Improvements   \n3              3 years           Rent        34171.0  Debt_Consolidation   \n4            10+ years  Home Mortgage        47003.0   Home_Improvements   \n\n   Monthly.Debt  Years.of.Credit.History  Months.since.last.delinquent  \\\n0        777.39                     18.0                          10.0   \n1        892.09                     26.7                           NaN   \n2       1244.02                     16.7                          32.0   \n3        990.94                     10.0                           NaN   \n4        503.71                     16.7                          25.0   \n\n   Number.of.Open.Accounts  Number.of.Credit.Problems  Current.Credit.Balance  \\\n0                       12                          0                    6762   \n1                       14                          0                   35706   \n2                       11                          1                   11275   \n3                       21                          0                    7009   \n4                       13                          1                   16913   \n\n   Maximum.Open.Credit  Bankruptcies  Tax.Liens  \n0              43088.0           0.0        0.0  \n1              42765.0           0.0        0.0  \n2               5911.0           1.0        0.0  \n3              30172.0           0.0        0.0  \n4              10851.0           1.0        0.0  "
          },
          "metadata": {}
        }
      ]
    },
    {
      "metadata": {
        "trusted": true
      },
      "cell_type": "code",
      "source": "data[\"Years.in.current.job\"].isna().sum()",
      "execution_count": 4,
      "outputs": [
        {
          "output_type": "execute_result",
          "execution_count": 4,
          "data": {
            "text/plain": "4693"
          },
          "metadata": {}
        }
      ]
    },
    {
      "metadata": {
        "trusted": true
      },
      "cell_type": "code",
      "source": "data[\"Years.in.current.job\"] = data[\"Years.in.current.job\"].str.extract('(\\d+)')",
      "execution_count": 3,
      "outputs": []
    },
    {
      "metadata": {
        "trusted": true
      },
      "cell_type": "code",
      "source": "data[\"Years.in.current.job\"].head()",
      "execution_count": 4,
      "outputs": [
        {
          "output_type": "execute_result",
          "execution_count": 4,
          "data": {
            "text/plain": "0     1\n1    10\n2     9\n3     3\n4    10\nName: Years.in.current.job, dtype: object"
          },
          "metadata": {}
        }
      ]
    },
    {
      "metadata": {
        "trusted": true
      },
      "cell_type": "code",
      "source": "data[\"Years.in.current.job\"].isna().sum()",
      "execution_count": 5,
      "outputs": [
        {
          "output_type": "execute_result",
          "execution_count": 5,
          "data": {
            "text/plain": "4693"
          },
          "metadata": {}
        }
      ]
    },
    {
      "metadata": {
        "trusted": true
      },
      "cell_type": "code",
      "source": "data.describe()",
      "execution_count": 8,
      "outputs": [
        {
          "output_type": "execute_result",
          "execution_count": 8,
          "data": {
            "text/html": "<div>\n<style scoped>\n    .dataframe tbody tr th:only-of-type {\n        vertical-align: middle;\n    }\n\n    .dataframe tbody tr th {\n        vertical-align: top;\n    }\n\n    .dataframe thead th {\n        text-align: right;\n    }\n</style>\n<table border=\"1\" class=\"dataframe\">\n  <thead>\n    <tr style=\"text-align: right;\">\n      <th></th>\n      <th>Unnamed: 0</th>\n      <th>Current.Loan.Amount</th>\n      <th>Credit.Score</th>\n      <th>Annual.Income</th>\n      <th>Monthly.Debt</th>\n      <th>Years.of.Credit.History</th>\n      <th>Months.since.last.delinquent</th>\n      <th>Number.of.Open.Accounts</th>\n      <th>Number.of.Credit.Problems</th>\n      <th>Current.Credit.Balance</th>\n      <th>Maximum.Open.Credit</th>\n      <th>Bankruptcies</th>\n      <th>Tax.Liens</th>\n    </tr>\n  </thead>\n  <tbody>\n    <tr>\n      <th>count</th>\n      <td>111107.000000</td>\n      <td>1.111070e+05</td>\n      <td>89769.000000</td>\n      <td>8.976900e+04</td>\n      <td>111107.000000</td>\n      <td>111107.000000</td>\n      <td>52104.000000</td>\n      <td>111107.000000</td>\n      <td>111107.000000</td>\n      <td>1.111070e+05</td>\n      <td>111107.000000</td>\n      <td>111107.000000</td>\n      <td>111107.000000</td>\n    </tr>\n    <tr>\n      <th>mean</th>\n      <td>55554.000000</td>\n      <td>1.147718e+07</td>\n      <td>1075.795029</td>\n      <td>7.248600e+04</td>\n      <td>971.970120</td>\n      <td>18.201003</td>\n      <td>34.902272</td>\n      <td>11.125105</td>\n      <td>0.168027</td>\n      <td>1.548314e+04</td>\n      <td>20729.533144</td>\n      <td>0.117660</td>\n      <td>0.029353</td>\n    </tr>\n    <tr>\n      <th>std</th>\n      <td>32073.972517</td>\n      <td>3.185508e+07</td>\n      <td>1474.133505</td>\n      <td>5.593094e+04</td>\n      <td>641.640829</td>\n      <td>7.014495</td>\n      <td>21.970696</td>\n      <td>5.010267</td>\n      <td>0.484212</td>\n      <td>1.982115e+04</td>\n      <td>13848.933792</td>\n      <td>0.351059</td>\n      <td>0.260562</td>\n    </tr>\n    <tr>\n      <th>min</th>\n      <td>1.000000</td>\n      <td>4.910000e+02</td>\n      <td>585.000000</td>\n      <td>4.033000e+03</td>\n      <td>0.000000</td>\n      <td>3.600000</td>\n      <td>0.000000</td>\n      <td>0.000000</td>\n      <td>0.000000</td>\n      <td>0.000000e+00</td>\n      <td>2.000000</td>\n      <td>0.000000</td>\n      <td>0.000000</td>\n    </tr>\n    <tr>\n      <th>25%</th>\n      <td>27777.500000</td>\n      <td>8.162000e+03</td>\n      <td>705.000000</td>\n      <td>4.468800e+04</td>\n      <td>537.755000</td>\n      <td>13.500000</td>\n      <td>16.000000</td>\n      <td>8.000000</td>\n      <td>0.000000</td>\n      <td>5.905000e+03</td>\n      <td>8616.000000</td>\n      <td>0.000000</td>\n      <td>0.000000</td>\n    </tr>\n    <tr>\n      <th>50%</th>\n      <td>55554.000000</td>\n      <td>1.418300e+04</td>\n      <td>724.000000</td>\n      <td>6.175200e+04</td>\n      <td>852.720000</td>\n      <td>16.900000</td>\n      <td>32.000000</td>\n      <td>10.000000</td>\n      <td>0.000000</td>\n      <td>1.102700e+04</td>\n      <td>18606.000000</td>\n      <td>0.000000</td>\n      <td>0.000000</td>\n    </tr>\n    <tr>\n      <th>75%</th>\n      <td>83330.500000</td>\n      <td>2.382200e+04</td>\n      <td>741.000000</td>\n      <td>8.688700e+04</td>\n      <td>1262.630000</td>\n      <td>21.700000</td>\n      <td>51.000000</td>\n      <td>14.000000</td>\n      <td>0.000000</td>\n      <td>1.933800e+04</td>\n      <td>32439.500000</td>\n      <td>0.000000</td>\n      <td>0.000000</td>\n    </tr>\n    <tr>\n      <th>max</th>\n      <td>111107.000000</td>\n      <td>1.000000e+08</td>\n      <td>7510.000000</td>\n      <td>8.713547e+06</td>\n      <td>22939.120000</td>\n      <td>70.500000</td>\n      <td>176.000000</td>\n      <td>76.000000</td>\n      <td>15.000000</td>\n      <td>1.730472e+06</td>\n      <td>46625.000000</td>\n      <td>7.000000</td>\n      <td>15.000000</td>\n    </tr>\n  </tbody>\n</table>\n</div>",
            "text/plain": "          Unnamed: 0  Current.Loan.Amount  Credit.Score  Annual.Income  \\\ncount  111107.000000         1.111070e+05  89769.000000   8.976900e+04   \nmean    55554.000000         1.147718e+07   1075.795029   7.248600e+04   \nstd     32073.972517         3.185508e+07   1474.133505   5.593094e+04   \nmin         1.000000         4.910000e+02    585.000000   4.033000e+03   \n25%     27777.500000         8.162000e+03    705.000000   4.468800e+04   \n50%     55554.000000         1.418300e+04    724.000000   6.175200e+04   \n75%     83330.500000         2.382200e+04    741.000000   8.688700e+04   \nmax    111107.000000         1.000000e+08   7510.000000   8.713547e+06   \n\n        Monthly.Debt  Years.of.Credit.History  Months.since.last.delinquent  \\\ncount  111107.000000            111107.000000                  52104.000000   \nmean      971.970120                18.201003                     34.902272   \nstd       641.640829                 7.014495                     21.970696   \nmin         0.000000                 3.600000                      0.000000   \n25%       537.755000                13.500000                     16.000000   \n50%       852.720000                16.900000                     32.000000   \n75%      1262.630000                21.700000                     51.000000   \nmax     22939.120000                70.500000                    176.000000   \n\n       Number.of.Open.Accounts  Number.of.Credit.Problems  \\\ncount            111107.000000              111107.000000   \nmean                 11.125105                   0.168027   \nstd                   5.010267                   0.484212   \nmin                   0.000000                   0.000000   \n25%                   8.000000                   0.000000   \n50%                  10.000000                   0.000000   \n75%                  14.000000                   0.000000   \nmax                  76.000000                  15.000000   \n\n       Current.Credit.Balance  Maximum.Open.Credit   Bankruptcies  \\\ncount            1.111070e+05        111107.000000  111107.000000   \nmean             1.548314e+04         20729.533144       0.117660   \nstd              1.982115e+04         13848.933792       0.351059   \nmin              0.000000e+00             2.000000       0.000000   \n25%              5.905000e+03          8616.000000       0.000000   \n50%              1.102700e+04         18606.000000       0.000000   \n75%              1.933800e+04         32439.500000       0.000000   \nmax              1.730472e+06         46625.000000       7.000000   \n\n           Tax.Liens  \ncount  111107.000000  \nmean        0.029353  \nstd         0.260562  \nmin         0.000000  \n25%         0.000000  \n50%         0.000000  \n75%         0.000000  \nmax        15.000000  "
          },
          "metadata": {}
        }
      ]
    },
    {
      "metadata": {
        "trusted": true
      },
      "cell_type": "code",
      "source": "data = data.iloc[:,1:]",
      "execution_count": 6,
      "outputs": []
    },
    {
      "metadata": {
        "trusted": true
      },
      "cell_type": "code",
      "source": "data.isna().sum()",
      "execution_count": 7,
      "outputs": [
        {
          "output_type": "execute_result",
          "execution_count": 7,
          "data": {
            "text/plain": "Loan.Status                         0\nCurrent.Loan.Amount                 0\nTerm                                0\nCredit.Score                    21338\nYears.in.current.job             4693\nHome.Ownership                      0\nAnnual.Income                   21338\nPurpose                             0\nMonthly.Debt                        0\nYears.of.Credit.History             0\nMonths.since.last.delinquent    59003\nNumber.of.Open.Accounts             0\nNumber.of.Credit.Problems           0\nCurrent.Credit.Balance              0\nMaximum.Open.Credit                 0\nBankruptcies                        0\nTax.Liens                           0\ndtype: int64"
          },
          "metadata": {}
        }
      ]
    },
    {
      "metadata": {
        "trusted": true
      },
      "cell_type": "code",
      "source": "data.shape",
      "execution_count": 8,
      "outputs": [
        {
          "output_type": "execute_result",
          "execution_count": 8,
          "data": {
            "text/plain": "(111107, 17)"
          },
          "metadata": {}
        }
      ]
    },
    {
      "metadata": {
        "trusted": true
      },
      "cell_type": "code",
      "source": "data[\"Years.in.current.job\"] = data[\"Years.in.current.job\"].fillna(0)",
      "execution_count": 9,
      "outputs": []
    },
    {
      "metadata": {
        "trusted": true
      },
      "cell_type": "code",
      "source": "data[\"Years.in.current.job\"] = data[\"Years.in.current.job\"].apply(pd.to_numeric)",
      "execution_count": 10,
      "outputs": []
    },
    {
      "metadata": {
        "trusted": true
      },
      "cell_type": "code",
      "source": "data[\"Years.in.current.job\"] = data[\"Years.in.current.job\"].replace(0,np.NAN)",
      "execution_count": 11,
      "outputs": []
    },
    {
      "metadata": {
        "trusted": true
      },
      "cell_type": "code",
      "source": "data[\"Years.in.current.job\"].describe()",
      "execution_count": 12,
      "outputs": [
        {
          "output_type": "execute_result",
          "execution_count": 12,
          "data": {
            "text/plain": "count    106414.000000\nmean          5.974308\nstd           3.500436\nmin           1.000000\n25%           3.000000\n50%           6.000000\n75%          10.000000\nmax          10.000000\nName: Years.in.current.job, dtype: float64"
          },
          "metadata": {}
        }
      ]
    },
    {
      "metadata": {
        "trusted": true
      },
      "cell_type": "code",
      "source": "data.isna().sum()",
      "execution_count": 13,
      "outputs": [
        {
          "output_type": "execute_result",
          "execution_count": 13,
          "data": {
            "text/plain": "Loan.Status                         0\nCurrent.Loan.Amount                 0\nTerm                                0\nCredit.Score                    21338\nYears.in.current.job             4693\nHome.Ownership                      0\nAnnual.Income                   21338\nPurpose                             0\nMonthly.Debt                        0\nYears.of.Credit.History             0\nMonths.since.last.delinquent    59003\nNumber.of.Open.Accounts             0\nNumber.of.Credit.Problems           0\nCurrent.Credit.Balance              0\nMaximum.Open.Credit                 0\nBankruptcies                        0\nTax.Liens                           0\ndtype: int64"
          },
          "metadata": {}
        }
      ]
    },
    {
      "metadata": {
        "trusted": true
      },
      "cell_type": "code",
      "source": "X = data.iloc[:,1:]",
      "execution_count": 14,
      "outputs": []
    },
    {
      "metadata": {
        "trusted": true
      },
      "cell_type": "code",
      "source": "X = pd.get_dummies(X,columns=['Term','Home.Ownership','Purpose'],drop_first=True)",
      "execution_count": 15,
      "outputs": []
    },
    {
      "metadata": {
        "trusted": true
      },
      "cell_type": "code",
      "source": "X.head()",
      "execution_count": 16,
      "outputs": [
        {
          "output_type": "execute_result",
          "execution_count": 16,
          "data": {
            "text/html": "<div>\n<style scoped>\n    .dataframe tbody tr th:only-of-type {\n        vertical-align: middle;\n    }\n\n    .dataframe tbody tr th {\n        vertical-align: top;\n    }\n\n    .dataframe thead th {\n        text-align: right;\n    }\n</style>\n<table border=\"1\" class=\"dataframe\">\n  <thead>\n    <tr style=\"text-align: right;\">\n      <th></th>\n      <th>Current.Loan.Amount</th>\n      <th>Credit.Score</th>\n      <th>Years.in.current.job</th>\n      <th>Annual.Income</th>\n      <th>Monthly.Debt</th>\n      <th>Years.of.Credit.History</th>\n      <th>Months.since.last.delinquent</th>\n      <th>Number.of.Open.Accounts</th>\n      <th>Number.of.Credit.Problems</th>\n      <th>Current.Credit.Balance</th>\n      <th>...</th>\n      <th>Purpose_Home_Improvements</th>\n      <th>Purpose_Medical_Bills</th>\n      <th>Purpose_Other</th>\n      <th>Purpose_Take_a_Trip</th>\n      <th>Purpose_major_purchase</th>\n      <th>Purpose_moving</th>\n      <th>Purpose_renewable_energy</th>\n      <th>Purpose_small_business</th>\n      <th>Purpose_vacation</th>\n      <th>Purpose_wedding</th>\n    </tr>\n  </thead>\n  <tbody>\n    <tr>\n      <th>0</th>\n      <td>12232</td>\n      <td>7280.0</td>\n      <td>1.0</td>\n      <td>46643.0</td>\n      <td>777.39</td>\n      <td>18.0</td>\n      <td>10.0</td>\n      <td>12</td>\n      <td>0</td>\n      <td>6762</td>\n      <td>...</td>\n      <td>0</td>\n      <td>0</td>\n      <td>0</td>\n      <td>0</td>\n      <td>0</td>\n      <td>0</td>\n      <td>0</td>\n      <td>0</td>\n      <td>0</td>\n      <td>0</td>\n    </tr>\n    <tr>\n      <th>1</th>\n      <td>25014</td>\n      <td>7330.0</td>\n      <td>10.0</td>\n      <td>81099.0</td>\n      <td>892.09</td>\n      <td>26.7</td>\n      <td>NaN</td>\n      <td>14</td>\n      <td>0</td>\n      <td>35706</td>\n      <td>...</td>\n      <td>0</td>\n      <td>0</td>\n      <td>0</td>\n      <td>0</td>\n      <td>0</td>\n      <td>0</td>\n      <td>0</td>\n      <td>0</td>\n      <td>0</td>\n      <td>0</td>\n    </tr>\n    <tr>\n      <th>2</th>\n      <td>16117</td>\n      <td>7240.0</td>\n      <td>9.0</td>\n      <td>60438.0</td>\n      <td>1244.02</td>\n      <td>16.7</td>\n      <td>32.0</td>\n      <td>11</td>\n      <td>1</td>\n      <td>11275</td>\n      <td>...</td>\n      <td>1</td>\n      <td>0</td>\n      <td>0</td>\n      <td>0</td>\n      <td>0</td>\n      <td>0</td>\n      <td>0</td>\n      <td>0</td>\n      <td>0</td>\n      <td>0</td>\n    </tr>\n    <tr>\n      <th>3</th>\n      <td>11716</td>\n      <td>7400.0</td>\n      <td>3.0</td>\n      <td>34171.0</td>\n      <td>990.94</td>\n      <td>10.0</td>\n      <td>NaN</td>\n      <td>21</td>\n      <td>0</td>\n      <td>7009</td>\n      <td>...</td>\n      <td>0</td>\n      <td>0</td>\n      <td>0</td>\n      <td>0</td>\n      <td>0</td>\n      <td>0</td>\n      <td>0</td>\n      <td>0</td>\n      <td>0</td>\n      <td>0</td>\n    </tr>\n    <tr>\n      <th>4</th>\n      <td>9789</td>\n      <td>6860.0</td>\n      <td>10.0</td>\n      <td>47003.0</td>\n      <td>503.71</td>\n      <td>16.7</td>\n      <td>25.0</td>\n      <td>13</td>\n      <td>1</td>\n      <td>16913</td>\n      <td>...</td>\n      <td>1</td>\n      <td>0</td>\n      <td>0</td>\n      <td>0</td>\n      <td>0</td>\n      <td>0</td>\n      <td>0</td>\n      <td>0</td>\n      <td>0</td>\n      <td>0</td>\n    </tr>\n  </tbody>\n</table>\n<p>5 rows × 31 columns</p>\n</div>",
            "text/plain": "   Current.Loan.Amount  Credit.Score  Years.in.current.job  Annual.Income  \\\n0                12232        7280.0                   1.0        46643.0   \n1                25014        7330.0                  10.0        81099.0   \n2                16117        7240.0                   9.0        60438.0   \n3                11716        7400.0                   3.0        34171.0   \n4                 9789        6860.0                  10.0        47003.0   \n\n   Monthly.Debt  Years.of.Credit.History  Months.since.last.delinquent  \\\n0        777.39                     18.0                          10.0   \n1        892.09                     26.7                           NaN   \n2       1244.02                     16.7                          32.0   \n3        990.94                     10.0                           NaN   \n4        503.71                     16.7                          25.0   \n\n   Number.of.Open.Accounts  Number.of.Credit.Problems  Current.Credit.Balance  \\\n0                       12                          0                    6762   \n1                       14                          0                   35706   \n2                       11                          1                   11275   \n3                       21                          0                    7009   \n4                       13                          1                   16913   \n\n        ...         Purpose_Home_Improvements  Purpose_Medical_Bills  \\\n0       ...                                 0                      0   \n1       ...                                 0                      0   \n2       ...                                 1                      0   \n3       ...                                 0                      0   \n4       ...                                 1                      0   \n\n   Purpose_Other  Purpose_Take_a_Trip  Purpose_major_purchase  Purpose_moving  \\\n0              0                    0                       0               0   \n1              0                    0                       0               0   \n2              0                    0                       0               0   \n3              0                    0                       0               0   \n4              0                    0                       0               0   \n\n   Purpose_renewable_energy  Purpose_small_business  Purpose_vacation  \\\n0                         0                       0                 0   \n1                         0                       0                 0   \n2                         0                       0                 0   \n3                         0                       0                 0   \n4                         0                       0                 0   \n\n   Purpose_wedding  \n0                0  \n1                0  \n2                0  \n3                0  \n4                0  \n\n[5 rows x 31 columns]"
          },
          "metadata": {}
        }
      ]
    },
    {
      "metadata": {
        "trusted": true
      },
      "cell_type": "code",
      "source": "X_cols = X.columns",
      "execution_count": 17,
      "outputs": []
    },
    {
      "metadata": {
        "trusted": true
      },
      "cell_type": "code",
      "source": "X_cols",
      "execution_count": 18,
      "outputs": [
        {
          "output_type": "execute_result",
          "execution_count": 18,
          "data": {
            "text/plain": "Index(['Current.Loan.Amount', 'Credit.Score', 'Years.in.current.job',\n       'Annual.Income', 'Monthly.Debt', 'Years.of.Credit.History',\n       'Months.since.last.delinquent', 'Number.of.Open.Accounts',\n       'Number.of.Credit.Problems', 'Current.Credit.Balance',\n       'Maximum.Open.Credit', 'Bankruptcies', 'Tax.Liens', 'Term_Short Term',\n       'Home.Ownership_Home Mortgage', 'Home.Ownership_Own Home',\n       'Home.Ownership_Rent', 'Purpose_Buy_House', 'Purpose_Buy_a_Car',\n       'Purpose_Debt_Consolidation', 'Purpose_Educational_Expenses',\n       'Purpose_Home_Improvements', 'Purpose_Medical_Bills', 'Purpose_Other',\n       'Purpose_Take_a_Trip', 'Purpose_major_purchase', 'Purpose_moving',\n       'Purpose_renewable_energy', 'Purpose_small_business',\n       'Purpose_vacation', 'Purpose_wedding'],\n      dtype='object')"
          },
          "metadata": {}
        }
      ]
    },
    {
      "metadata": {
        "trusted": true
      },
      "cell_type": "code",
      "source": "y = data.iloc[:,0]",
      "execution_count": 19,
      "outputs": []
    },
    {
      "metadata": {
        "trusted": true
      },
      "cell_type": "code",
      "source": "y = y.replace(['Fully Paid','Charged Off'],[1,0])",
      "execution_count": 20,
      "outputs": []
    },
    {
      "metadata": {
        "trusted": true
      },
      "cell_type": "code",
      "source": "y.head()",
      "execution_count": 21,
      "outputs": [
        {
          "output_type": "execute_result",
          "execution_count": 21,
          "data": {
            "text/plain": "0    0\n1    0\n2    0\n3    0\n4    0\nName: Loan.Status, dtype: int64"
          },
          "metadata": {}
        }
      ]
    },
    {
      "metadata": {
        "trusted": true
      },
      "cell_type": "code",
      "source": "import sys",
      "execution_count": 22,
      "outputs": []
    },
    {
      "metadata": {
        "trusted": true
      },
      "cell_type": "code",
      "source": "#!pip install impyute",
      "execution_count": 24,
      "outputs": [
        {
          "output_type": "stream",
          "text": "Collecting impyute\n  Downloading https://files.pythonhosted.org/packages/37/28/86829f67c9affb847facaab94687761d3555539ec675f7577778c5b2680a/impyute-0.0.8-py2.py3-none-any.whl\nRequirement already satisfied: scikit-learn in /home/nbuser/anaconda3_501/lib/python3.6/site-packages (from impyute) (0.20.3)\nRequirement already satisfied: numpy in /home/nbuser/anaconda3_501/lib/python3.6/site-packages (from impyute) (1.16.2)\nRequirement already satisfied: scipy in /home/nbuser/anaconda3_501/lib/python3.6/site-packages (from impyute) (1.1.0)\nInstalling collected packages: impyute\nSuccessfully installed impyute-0.0.8\n\u001b[33mWARNING: You are using pip version 19.1.1, however version 19.2.1 is available.\nYou should consider upgrading via the 'pip install --upgrade pip' command.\u001b[0m\n",
          "name": "stdout"
        }
      ]
    },
    {
      "metadata": {
        "trusted": true
      },
      "cell_type": "code",
      "source": "from impyute.imputation.cs import mice",
      "execution_count": 25,
      "outputs": []
    },
    {
      "metadata": {
        "trusted": true
      },
      "cell_type": "code",
      "source": "#sys.setrecursionlimit(100000)",
      "execution_count": 23,
      "outputs": []
    },
    {
      "metadata": {
        "trusted": true
      },
      "cell_type": "code",
      "source": "imputed_X = mice(X.values)",
      "execution_count": 26,
      "outputs": []
    },
    {
      "metadata": {
        "trusted": true
      },
      "cell_type": "code",
      "source": "imp = pd.DataFrame(imputed_X)",
      "execution_count": 27,
      "outputs": []
    },
    {
      "metadata": {
        "trusted": true
      },
      "cell_type": "code",
      "source": "imp.columns = X_cols",
      "execution_count": 28,
      "outputs": []
    },
    {
      "metadata": {
        "trusted": true
      },
      "cell_type": "code",
      "source": "imp.head()",
      "execution_count": 29,
      "outputs": [
        {
          "output_type": "execute_result",
          "execution_count": 29,
          "data": {
            "text/html": "<div>\n<style scoped>\n    .dataframe tbody tr th:only-of-type {\n        vertical-align: middle;\n    }\n\n    .dataframe tbody tr th {\n        vertical-align: top;\n    }\n\n    .dataframe thead th {\n        text-align: right;\n    }\n</style>\n<table border=\"1\" class=\"dataframe\">\n  <thead>\n    <tr style=\"text-align: right;\">\n      <th></th>\n      <th>Current.Loan.Amount</th>\n      <th>Credit.Score</th>\n      <th>Years.in.current.job</th>\n      <th>Annual.Income</th>\n      <th>Monthly.Debt</th>\n      <th>Years.of.Credit.History</th>\n      <th>Months.since.last.delinquent</th>\n      <th>Number.of.Open.Accounts</th>\n      <th>Number.of.Credit.Problems</th>\n      <th>Current.Credit.Balance</th>\n      <th>...</th>\n      <th>Purpose_Home_Improvements</th>\n      <th>Purpose_Medical_Bills</th>\n      <th>Purpose_Other</th>\n      <th>Purpose_Take_a_Trip</th>\n      <th>Purpose_major_purchase</th>\n      <th>Purpose_moving</th>\n      <th>Purpose_renewable_energy</th>\n      <th>Purpose_small_business</th>\n      <th>Purpose_vacation</th>\n      <th>Purpose_wedding</th>\n    </tr>\n  </thead>\n  <tbody>\n    <tr>\n      <th>0</th>\n      <td>12232.0</td>\n      <td>7280.0</td>\n      <td>1.0</td>\n      <td>46643.0</td>\n      <td>777.39</td>\n      <td>18.0</td>\n      <td>10.000000</td>\n      <td>12.0</td>\n      <td>0.0</td>\n      <td>6762.0</td>\n      <td>...</td>\n      <td>0.0</td>\n      <td>0.0</td>\n      <td>0.0</td>\n      <td>0.0</td>\n      <td>0.0</td>\n      <td>0.0</td>\n      <td>0.0</td>\n      <td>0.0</td>\n      <td>0.0</td>\n      <td>0.0</td>\n    </tr>\n    <tr>\n      <th>1</th>\n      <td>25014.0</td>\n      <td>7330.0</td>\n      <td>10.0</td>\n      <td>81099.0</td>\n      <td>892.09</td>\n      <td>26.7</td>\n      <td>32.033996</td>\n      <td>14.0</td>\n      <td>0.0</td>\n      <td>35706.0</td>\n      <td>...</td>\n      <td>0.0</td>\n      <td>0.0</td>\n      <td>0.0</td>\n      <td>0.0</td>\n      <td>0.0</td>\n      <td>0.0</td>\n      <td>0.0</td>\n      <td>0.0</td>\n      <td>0.0</td>\n      <td>0.0</td>\n    </tr>\n    <tr>\n      <th>2</th>\n      <td>16117.0</td>\n      <td>7240.0</td>\n      <td>9.0</td>\n      <td>60438.0</td>\n      <td>1244.02</td>\n      <td>16.7</td>\n      <td>32.000000</td>\n      <td>11.0</td>\n      <td>1.0</td>\n      <td>11275.0</td>\n      <td>...</td>\n      <td>1.0</td>\n      <td>0.0</td>\n      <td>0.0</td>\n      <td>0.0</td>\n      <td>0.0</td>\n      <td>0.0</td>\n      <td>0.0</td>\n      <td>0.0</td>\n      <td>0.0</td>\n      <td>0.0</td>\n    </tr>\n    <tr>\n      <th>3</th>\n      <td>11716.0</td>\n      <td>7400.0</td>\n      <td>3.0</td>\n      <td>34171.0</td>\n      <td>990.94</td>\n      <td>10.0</td>\n      <td>35.943999</td>\n      <td>21.0</td>\n      <td>0.0</td>\n      <td>7009.0</td>\n      <td>...</td>\n      <td>0.0</td>\n      <td>0.0</td>\n      <td>0.0</td>\n      <td>0.0</td>\n      <td>0.0</td>\n      <td>0.0</td>\n      <td>0.0</td>\n      <td>0.0</td>\n      <td>0.0</td>\n      <td>0.0</td>\n    </tr>\n    <tr>\n      <th>4</th>\n      <td>9789.0</td>\n      <td>6860.0</td>\n      <td>10.0</td>\n      <td>47003.0</td>\n      <td>503.71</td>\n      <td>16.7</td>\n      <td>25.000000</td>\n      <td>13.0</td>\n      <td>1.0</td>\n      <td>16913.0</td>\n      <td>...</td>\n      <td>1.0</td>\n      <td>0.0</td>\n      <td>0.0</td>\n      <td>0.0</td>\n      <td>0.0</td>\n      <td>0.0</td>\n      <td>0.0</td>\n      <td>0.0</td>\n      <td>0.0</td>\n      <td>0.0</td>\n    </tr>\n  </tbody>\n</table>\n<p>5 rows × 31 columns</p>\n</div>",
            "text/plain": "   Current.Loan.Amount  Credit.Score  Years.in.current.job  Annual.Income  \\\n0              12232.0        7280.0                   1.0        46643.0   \n1              25014.0        7330.0                  10.0        81099.0   \n2              16117.0        7240.0                   9.0        60438.0   \n3              11716.0        7400.0                   3.0        34171.0   \n4               9789.0        6860.0                  10.0        47003.0   \n\n   Monthly.Debt  Years.of.Credit.History  Months.since.last.delinquent  \\\n0        777.39                     18.0                     10.000000   \n1        892.09                     26.7                     32.033996   \n2       1244.02                     16.7                     32.000000   \n3        990.94                     10.0                     35.943999   \n4        503.71                     16.7                     25.000000   \n\n   Number.of.Open.Accounts  Number.of.Credit.Problems  Current.Credit.Balance  \\\n0                     12.0                        0.0                  6762.0   \n1                     14.0                        0.0                 35706.0   \n2                     11.0                        1.0                 11275.0   \n3                     21.0                        0.0                  7009.0   \n4                     13.0                        1.0                 16913.0   \n\n        ...         Purpose_Home_Improvements  Purpose_Medical_Bills  \\\n0       ...                               0.0                    0.0   \n1       ...                               0.0                    0.0   \n2       ...                               1.0                    0.0   \n3       ...                               0.0                    0.0   \n4       ...                               1.0                    0.0   \n\n   Purpose_Other  Purpose_Take_a_Trip  Purpose_major_purchase  Purpose_moving  \\\n0            0.0                  0.0                     0.0             0.0   \n1            0.0                  0.0                     0.0             0.0   \n2            0.0                  0.0                     0.0             0.0   \n3            0.0                  0.0                     0.0             0.0   \n4            0.0                  0.0                     0.0             0.0   \n\n   Purpose_renewable_energy  Purpose_small_business  Purpose_vacation  \\\n0                       0.0                     0.0               0.0   \n1                       0.0                     0.0               0.0   \n2                       0.0                     0.0               0.0   \n3                       0.0                     0.0               0.0   \n4                       0.0                     0.0               0.0   \n\n   Purpose_wedding  \n0              0.0  \n1              0.0  \n2              0.0  \n3              0.0  \n4              0.0  \n\n[5 rows x 31 columns]"
          },
          "metadata": {}
        }
      ]
    },
    {
      "metadata": {
        "trusted": true
      },
      "cell_type": "code",
      "source": "X = imp",
      "execution_count": 30,
      "outputs": []
    },
    {
      "metadata": {
        "trusted": true
      },
      "cell_type": "code",
      "source": "X.head()",
      "execution_count": 31,
      "outputs": [
        {
          "output_type": "execute_result",
          "execution_count": 31,
          "data": {
            "text/html": "<div>\n<style scoped>\n    .dataframe tbody tr th:only-of-type {\n        vertical-align: middle;\n    }\n\n    .dataframe tbody tr th {\n        vertical-align: top;\n    }\n\n    .dataframe thead th {\n        text-align: right;\n    }\n</style>\n<table border=\"1\" class=\"dataframe\">\n  <thead>\n    <tr style=\"text-align: right;\">\n      <th></th>\n      <th>Current.Loan.Amount</th>\n      <th>Credit.Score</th>\n      <th>Years.in.current.job</th>\n      <th>Annual.Income</th>\n      <th>Monthly.Debt</th>\n      <th>Years.of.Credit.History</th>\n      <th>Months.since.last.delinquent</th>\n      <th>Number.of.Open.Accounts</th>\n      <th>Number.of.Credit.Problems</th>\n      <th>Current.Credit.Balance</th>\n      <th>...</th>\n      <th>Purpose_Home_Improvements</th>\n      <th>Purpose_Medical_Bills</th>\n      <th>Purpose_Other</th>\n      <th>Purpose_Take_a_Trip</th>\n      <th>Purpose_major_purchase</th>\n      <th>Purpose_moving</th>\n      <th>Purpose_renewable_energy</th>\n      <th>Purpose_small_business</th>\n      <th>Purpose_vacation</th>\n      <th>Purpose_wedding</th>\n    </tr>\n  </thead>\n  <tbody>\n    <tr>\n      <th>0</th>\n      <td>12232.0</td>\n      <td>7280.0</td>\n      <td>1.0</td>\n      <td>46643.0</td>\n      <td>777.39</td>\n      <td>18.0</td>\n      <td>10.000000</td>\n      <td>12.0</td>\n      <td>0.0</td>\n      <td>6762.0</td>\n      <td>...</td>\n      <td>0.0</td>\n      <td>0.0</td>\n      <td>0.0</td>\n      <td>0.0</td>\n      <td>0.0</td>\n      <td>0.0</td>\n      <td>0.0</td>\n      <td>0.0</td>\n      <td>0.0</td>\n      <td>0.0</td>\n    </tr>\n    <tr>\n      <th>1</th>\n      <td>25014.0</td>\n      <td>7330.0</td>\n      <td>10.0</td>\n      <td>81099.0</td>\n      <td>892.09</td>\n      <td>26.7</td>\n      <td>32.033996</td>\n      <td>14.0</td>\n      <td>0.0</td>\n      <td>35706.0</td>\n      <td>...</td>\n      <td>0.0</td>\n      <td>0.0</td>\n      <td>0.0</td>\n      <td>0.0</td>\n      <td>0.0</td>\n      <td>0.0</td>\n      <td>0.0</td>\n      <td>0.0</td>\n      <td>0.0</td>\n      <td>0.0</td>\n    </tr>\n    <tr>\n      <th>2</th>\n      <td>16117.0</td>\n      <td>7240.0</td>\n      <td>9.0</td>\n      <td>60438.0</td>\n      <td>1244.02</td>\n      <td>16.7</td>\n      <td>32.000000</td>\n      <td>11.0</td>\n      <td>1.0</td>\n      <td>11275.0</td>\n      <td>...</td>\n      <td>1.0</td>\n      <td>0.0</td>\n      <td>0.0</td>\n      <td>0.0</td>\n      <td>0.0</td>\n      <td>0.0</td>\n      <td>0.0</td>\n      <td>0.0</td>\n      <td>0.0</td>\n      <td>0.0</td>\n    </tr>\n    <tr>\n      <th>3</th>\n      <td>11716.0</td>\n      <td>7400.0</td>\n      <td>3.0</td>\n      <td>34171.0</td>\n      <td>990.94</td>\n      <td>10.0</td>\n      <td>35.943999</td>\n      <td>21.0</td>\n      <td>0.0</td>\n      <td>7009.0</td>\n      <td>...</td>\n      <td>0.0</td>\n      <td>0.0</td>\n      <td>0.0</td>\n      <td>0.0</td>\n      <td>0.0</td>\n      <td>0.0</td>\n      <td>0.0</td>\n      <td>0.0</td>\n      <td>0.0</td>\n      <td>0.0</td>\n    </tr>\n    <tr>\n      <th>4</th>\n      <td>9789.0</td>\n      <td>6860.0</td>\n      <td>10.0</td>\n      <td>47003.0</td>\n      <td>503.71</td>\n      <td>16.7</td>\n      <td>25.000000</td>\n      <td>13.0</td>\n      <td>1.0</td>\n      <td>16913.0</td>\n      <td>...</td>\n      <td>1.0</td>\n      <td>0.0</td>\n      <td>0.0</td>\n      <td>0.0</td>\n      <td>0.0</td>\n      <td>0.0</td>\n      <td>0.0</td>\n      <td>0.0</td>\n      <td>0.0</td>\n      <td>0.0</td>\n    </tr>\n  </tbody>\n</table>\n<p>5 rows × 31 columns</p>\n</div>",
            "text/plain": "   Current.Loan.Amount  Credit.Score  Years.in.current.job  Annual.Income  \\\n0              12232.0        7280.0                   1.0        46643.0   \n1              25014.0        7330.0                  10.0        81099.0   \n2              16117.0        7240.0                   9.0        60438.0   \n3              11716.0        7400.0                   3.0        34171.0   \n4               9789.0        6860.0                  10.0        47003.0   \n\n   Monthly.Debt  Years.of.Credit.History  Months.since.last.delinquent  \\\n0        777.39                     18.0                     10.000000   \n1        892.09                     26.7                     32.033996   \n2       1244.02                     16.7                     32.000000   \n3        990.94                     10.0                     35.943999   \n4        503.71                     16.7                     25.000000   \n\n   Number.of.Open.Accounts  Number.of.Credit.Problems  Current.Credit.Balance  \\\n0                     12.0                        0.0                  6762.0   \n1                     14.0                        0.0                 35706.0   \n2                     11.0                        1.0                 11275.0   \n3                     21.0                        0.0                  7009.0   \n4                     13.0                        1.0                 16913.0   \n\n        ...         Purpose_Home_Improvements  Purpose_Medical_Bills  \\\n0       ...                               0.0                    0.0   \n1       ...                               0.0                    0.0   \n2       ...                               1.0                    0.0   \n3       ...                               0.0                    0.0   \n4       ...                               1.0                    0.0   \n\n   Purpose_Other  Purpose_Take_a_Trip  Purpose_major_purchase  Purpose_moving  \\\n0            0.0                  0.0                     0.0             0.0   \n1            0.0                  0.0                     0.0             0.0   \n2            0.0                  0.0                     0.0             0.0   \n3            0.0                  0.0                     0.0             0.0   \n4            0.0                  0.0                     0.0             0.0   \n\n   Purpose_renewable_energy  Purpose_small_business  Purpose_vacation  \\\n0                       0.0                     0.0               0.0   \n1                       0.0                     0.0               0.0   \n2                       0.0                     0.0               0.0   \n3                       0.0                     0.0               0.0   \n4                       0.0                     0.0               0.0   \n\n   Purpose_wedding  \n0              0.0  \n1              0.0  \n2              0.0  \n3              0.0  \n4              0.0  \n\n[5 rows x 31 columns]"
          },
          "metadata": {}
        }
      ]
    },
    {
      "metadata": {
        "trusted": true
      },
      "cell_type": "code",
      "source": "X.shape",
      "execution_count": 32,
      "outputs": [
        {
          "output_type": "execute_result",
          "execution_count": 32,
          "data": {
            "text/plain": "(111107, 31)"
          },
          "metadata": {}
        }
      ]
    },
    {
      "metadata": {
        "trusted": true
      },
      "cell_type": "code",
      "source": "#data = pd.concat([X, y], axis=1)",
      "execution_count": 117,
      "outputs": []
    },
    {
      "metadata": {
        "trusted": true
      },
      "cell_type": "code",
      "source": "#data.isnull().sum()",
      "execution_count": 118,
      "outputs": [
        {
          "output_type": "execute_result",
          "execution_count": 118,
          "data": {
            "text/plain": "Current.Loan.Amount             0\nCredit.Score                    0\nYears.in.current.job            0\nAnnual.Income                   0\nMonthly.Debt                    0\nYears.of.Credit.History         0\nMonths.since.last.delinquent    0\nNumber.of.Open.Accounts         0\nNumber.of.Credit.Problems       0\nCurrent.Credit.Balance          0\nMaximum.Open.Credit             0\nBankruptcies                    0\nTax.Liens                       0\nTerm_Short Term                 0\nHome.Ownership_Home Mortgage    0\nHome.Ownership_Own Home         0\nHome.Ownership_Rent             0\nPurpose_Buy_House               0\nPurpose_Buy_a_Car               0\nPurpose_Debt_Consolidation      0\nPurpose_Educational_Expenses    0\nPurpose_Home_Improvements       0\nPurpose_Medical_Bills           0\nPurpose_Other                   0\nPurpose_Take_a_Trip             0\nPurpose_major_purchase          0\nPurpose_moving                  0\nPurpose_renewable_energy        0\nPurpose_small_business          0\nPurpose_vacation                0\nPurpose_wedding                 0\nLoan.Status                     0\ndtype: int64"
          },
          "metadata": {}
        }
      ]
    },
    {
      "metadata": {
        "trusted": true
      },
      "cell_type": "code",
      "source": "#data.shape",
      "execution_count": 120,
      "outputs": [
        {
          "output_type": "execute_result",
          "execution_count": 120,
          "data": {
            "text/plain": "(111107, 32)"
          },
          "metadata": {}
        }
      ]
    },
    {
      "metadata": {
        "trusted": true
      },
      "cell_type": "code",
      "source": "#data.to_csv(\"Imputed_loan_default.csv\")",
      "execution_count": 121,
      "outputs": []
    },
    {
      "metadata": {
        "trusted": true
      },
      "cell_type": "code",
      "source": "from sklearn.model_selection import train_test_split",
      "execution_count": 33,
      "outputs": []
    },
    {
      "metadata": {
        "trusted": true
      },
      "cell_type": "code",
      "source": "X_train, X_test, y_train, y_test = train_test_split(X, y, test_size = 0.2, random_state = 0)",
      "execution_count": 34,
      "outputs": []
    },
    {
      "metadata": {
        "trusted": true
      },
      "cell_type": "code",
      "source": "X_train.shape",
      "execution_count": 35,
      "outputs": [
        {
          "output_type": "execute_result",
          "execution_count": 35,
          "data": {
            "text/plain": "(88885, 31)"
          },
          "metadata": {}
        }
      ]
    },
    {
      "metadata": {
        "trusted": true
      },
      "cell_type": "code",
      "source": "X_test.shape",
      "execution_count": 36,
      "outputs": [
        {
          "output_type": "execute_result",
          "execution_count": 36,
          "data": {
            "text/plain": "(22222, 31)"
          },
          "metadata": {}
        }
      ]
    },
    {
      "metadata": {
        "trusted": true
      },
      "cell_type": "code",
      "source": "y_train.shape",
      "execution_count": 37,
      "outputs": [
        {
          "output_type": "execute_result",
          "execution_count": 37,
          "data": {
            "text/plain": "(88885,)"
          },
          "metadata": {}
        }
      ]
    },
    {
      "metadata": {
        "trusted": true
      },
      "cell_type": "code",
      "source": "y_test.shape",
      "execution_count": 38,
      "outputs": [
        {
          "output_type": "execute_result",
          "execution_count": 38,
          "data": {
            "text/plain": "(22222,)"
          },
          "metadata": {}
        }
      ]
    },
    {
      "metadata": {
        "trusted": true
      },
      "cell_type": "code",
      "source": "y_train.value_counts()",
      "execution_count": 40,
      "outputs": [
        {
          "output_type": "execute_result",
          "execution_count": 40,
          "data": {
            "text/plain": "1    68716\n0    20169\nName: Loan.Status, dtype: int64"
          },
          "metadata": {}
        }
      ]
    },
    {
      "metadata": {
        "trusted": true
      },
      "cell_type": "code",
      "source": "y_test.value_counts()",
      "execution_count": 41,
      "outputs": [
        {
          "output_type": "execute_result",
          "execution_count": 41,
          "data": {
            "text/plain": "1    17218\n0     5004\nName: Loan.Status, dtype: int64"
          },
          "metadata": {}
        }
      ]
    },
    {
      "metadata": {
        "trusted": true
      },
      "cell_type": "code",
      "source": "",
      "execution_count": null,
      "outputs": []
    },
    {
      "metadata": {
        "trusted": true
      },
      "cell_type": "code",
      "source": "",
      "execution_count": null,
      "outputs": []
    },
    {
      "metadata": {
        "trusted": true
      },
      "cell_type": "code",
      "source": "",
      "execution_count": null,
      "outputs": []
    },
    {
      "metadata": {
        "trusted": true
      },
      "cell_type": "code",
      "source": "from sklearn.linear_model import LogisticRegression",
      "execution_count": 42,
      "outputs": []
    },
    {
      "metadata": {
        "trusted": true
      },
      "cell_type": "code",
      "source": "Log_reg = LogisticRegression()",
      "execution_count": 43,
      "outputs": []
    },
    {
      "metadata": {
        "trusted": true
      },
      "cell_type": "code",
      "source": "Log_reg.fit(X_train,y_train)",
      "execution_count": 44,
      "outputs": [
        {
          "output_type": "stream",
          "text": "/home/nbuser/anaconda3_501/lib/python3.6/site-packages/sklearn/linear_model/logistic.py:433: FutureWarning: Default solver will be changed to 'lbfgs' in 0.22. Specify a solver to silence this warning.\n  FutureWarning)\n",
          "name": "stderr"
        },
        {
          "output_type": "execute_result",
          "execution_count": 44,
          "data": {
            "text/plain": "LogisticRegression(C=1.0, class_weight=None, dual=False, fit_intercept=True,\n          intercept_scaling=1, max_iter=100, multi_class='warn',\n          n_jobs=None, penalty='l2', random_state=None, solver='warn',\n          tol=0.0001, verbose=0, warm_start=False)"
          },
          "metadata": {}
        }
      ]
    },
    {
      "metadata": {
        "trusted": true
      },
      "cell_type": "code",
      "source": "y_pred_train = Log_reg.predict(X_train)",
      "execution_count": 45,
      "outputs": []
    },
    {
      "metadata": {
        "trusted": true
      },
      "cell_type": "code",
      "source": "from sklearn.metrics import accuracy_score,f1_score,recall_score",
      "execution_count": 51,
      "outputs": []
    },
    {
      "metadata": {
        "trusted": true
      },
      "cell_type": "code",
      "source": "accuracy_score(y_train,y_pred_train)",
      "execution_count": 47,
      "outputs": [
        {
          "output_type": "execute_result",
          "execution_count": 47,
          "data": {
            "text/plain": "0.814805647747089"
          },
          "metadata": {}
        }
      ]
    },
    {
      "metadata": {
        "trusted": true
      },
      "cell_type": "code",
      "source": "predictions = pd.DataFrame(y_pred_train)",
      "execution_count": 48,
      "outputs": []
    },
    {
      "metadata": {
        "trusted": true
      },
      "cell_type": "code",
      "source": "predictions[0].value_counts()",
      "execution_count": 49,
      "outputs": [
        {
          "output_type": "execute_result",
          "execution_count": 49,
          "data": {
            "text/plain": "1    84451\n0     4434\nName: 0, dtype: int64"
          },
          "metadata": {}
        }
      ]
    },
    {
      "metadata": {
        "trusted": true
      },
      "cell_type": "code",
      "source": "f1_score(y_train, y_pred_train)",
      "execution_count": 52,
      "outputs": [
        {
          "output_type": "execute_result",
          "execution_count": 52,
          "data": {
            "text/plain": "0.8925290695776505"
          },
          "metadata": {}
        }
      ]
    },
    {
      "metadata": {
        "trusted": true
      },
      "cell_type": "code",
      "source": "recall_score(y_train,y_pred_train)",
      "execution_count": 53,
      "outputs": [
        {
          "output_type": "execute_result",
          "execution_count": 53,
          "data": {
            "text/plain": "0.994717387508004"
          },
          "metadata": {}
        }
      ]
    },
    {
      "metadata": {
        "trusted": true
      },
      "cell_type": "code",
      "source": "",
      "execution_count": null,
      "outputs": []
    },
    {
      "metadata": {
        "trusted": true
      },
      "cell_type": "code",
      "source": "",
      "execution_count": null,
      "outputs": []
    },
    {
      "metadata": {
        "trusted": true
      },
      "cell_type": "code",
      "source": "y_pred_test = Log_reg.predict(X_test)",
      "execution_count": 71,
      "outputs": []
    },
    {
      "metadata": {
        "trusted": true
      },
      "cell_type": "code",
      "source": "accuracy_score(y_test,y_pred_test)",
      "execution_count": 72,
      "outputs": [
        {
          "output_type": "execute_result",
          "execution_count": 72,
          "data": {
            "text/plain": "0.8185581855818558"
          },
          "metadata": {}
        }
      ]
    },
    {
      "metadata": {
        "trusted": true
      },
      "cell_type": "code",
      "source": "from sklearn.metrics import roc_auc_score,roc_curve\nfrom matplotlib import pyplot ",
      "execution_count": 73,
      "outputs": []
    },
    {
      "metadata": {
        "trusted": true
      },
      "cell_type": "code",
      "source": "probs = Log_reg.predict_proba(X_train)",
      "execution_count": 74,
      "outputs": []
    },
    {
      "metadata": {
        "trusted": true
      },
      "cell_type": "code",
      "source": "probs = probs[:, 1]",
      "execution_count": 75,
      "outputs": []
    },
    {
      "metadata": {
        "trusted": true
      },
      "cell_type": "code",
      "source": "auc = roc_auc_score(y_train, probs)",
      "execution_count": 76,
      "outputs": []
    },
    {
      "metadata": {
        "trusted": true
      },
      "cell_type": "code",
      "source": "print('AUC: %.3f' % auc)",
      "execution_count": 77,
      "outputs": [
        {
          "output_type": "stream",
          "text": "AUC: 0.692\n",
          "name": "stdout"
        }
      ]
    },
    {
      "metadata": {
        "trusted": true
      },
      "cell_type": "code",
      "source": "fpr, tpr, thresholds = roc_curve(y_train, probs)",
      "execution_count": 78,
      "outputs": []
    },
    {
      "metadata": {
        "trusted": true
      },
      "cell_type": "code",
      "source": "pyplot.plot([0, 1], [0, 1], linestyle='--')\npyplot.plot(fpr, tpr, marker='.')\npyplot.show()",
      "execution_count": 80,
      "outputs": [
        {
          "output_type": "display_data",
          "data": {
            "image/png": "[encoded data removed]",
            "text/plain": "<Figure size 432x288 with 1 Axes>"
          },
          "metadata": {
            "needs_background": "light"
          }
        }
      ]
    },
    {
      "metadata": {},
      "cell_type": "markdown",
      "source": "Decision Tree"
    },
    {
      "metadata": {
        "trusted": true
      },
      "cell_type": "code",
      "source": "from sklearn.tree import DecisionTreeClassifier\nfrom sklearn.metrics import accuracy_score\nfrom sklearn import tree",
      "execution_count": 54,
      "outputs": []
    },
    {
      "metadata": {
        "trusted": true
      },
      "cell_type": "code",
      "source": "clf_gini = DecisionTreeClassifier(criterion = \"gini\", random_state = 100,max_depth=3, min_samples_leaf=5)\nclf_gini.fit(X_train, y_train)",
      "execution_count": 55,
      "outputs": [
        {
          "output_type": "execute_result",
          "execution_count": 55,
          "data": {
            "text/plain": "DecisionTreeClassifier(class_weight=None, criterion='gini', max_depth=3,\n            max_features=None, max_leaf_nodes=None,\n            min_impurity_decrease=0.0, min_impurity_split=None,\n            min_samples_leaf=5, min_samples_split=2,\n            min_weight_fraction_leaf=0.0, presort=False, random_state=100,\n            splitter='best')"
          },
          "metadata": {}
        }
      ]
    },
    {
      "metadata": {
        "trusted": true
      },
      "cell_type": "code",
      "source": "clf_entropy = DecisionTreeClassifier(criterion = \"entropy\", random_state = 100,max_depth=3, min_samples_leaf=5)\nclf_entropy.fit(X_train, y_train)",
      "execution_count": 56,
      "outputs": [
        {
          "output_type": "execute_result",
          "execution_count": 56,
          "data": {
            "text/plain": "DecisionTreeClassifier(class_weight=None, criterion='entropy', max_depth=3,\n            max_features=None, max_leaf_nodes=None,\n            min_impurity_decrease=0.0, min_impurity_split=None,\n            min_samples_leaf=5, min_samples_split=2,\n            min_weight_fraction_leaf=0.0, presort=False, random_state=100,\n            splitter='best')"
          },
          "metadata": {}
        }
      ]
    },
    {
      "metadata": {
        "trusted": true
      },
      "cell_type": "code",
      "source": "y_pred_train = clf_gini.predict(X_train)",
      "execution_count": 57,
      "outputs": []
    },
    {
      "metadata": {
        "trusted": true
      },
      "cell_type": "code",
      "source": "y_pred_en_train = clf_entropy.predict(X_train)",
      "execution_count": 58,
      "outputs": []
    },
    {
      "metadata": {
        "trusted": true
      },
      "cell_type": "code",
      "source": "accuracy_score(y_train,y_pred_train)*100",
      "execution_count": 59,
      "outputs": [
        {
          "output_type": "execute_result",
          "execution_count": 59,
          "data": {
            "text/plain": "81.80795409799178"
          },
          "metadata": {}
        }
      ]
    },
    {
      "metadata": {
        "trusted": true
      },
      "cell_type": "code",
      "source": "accuracy_score(y_train,y_pred_en_train)*100",
      "execution_count": 60,
      "outputs": [
        {
          "output_type": "execute_result",
          "execution_count": 60,
          "data": {
            "text/plain": "81.80570399954999"
          },
          "metadata": {}
        }
      ]
    },
    {
      "metadata": {
        "trusted": true
      },
      "cell_type": "code",
      "source": "f1_score(y_train,y_pred_train)",
      "execution_count": 61,
      "outputs": [
        {
          "output_type": "execute_result",
          "execution_count": 61,
          "data": {
            "text/plain": "0.8947265625"
          },
          "metadata": {}
        }
      ]
    },
    {
      "metadata": {
        "trusted": true
      },
      "cell_type": "code",
      "source": "recall_score(y_train,y_pred_train)",
      "execution_count": 62,
      "outputs": [
        {
          "output_type": "execute_result",
          "execution_count": 62,
          "data": {
            "text/plain": "0.9999854473485069"
          },
          "metadata": {}
        }
      ]
    },
    {
      "metadata": {
        "trusted": true
      },
      "cell_type": "code",
      "source": "f1_score(y_train,y_pred_en_train)",
      "execution_count": 63,
      "outputs": [
        {
          "output_type": "execute_result",
          "execution_count": 63,
          "data": {
            "text/plain": "0.8947162834301191"
          },
          "metadata": {}
        }
      ]
    },
    {
      "metadata": {
        "trusted": true
      },
      "cell_type": "code",
      "source": "recall_score(y_train,y_pred_en_train)",
      "execution_count": 64,
      "outputs": [
        {
          "output_type": "execute_result",
          "execution_count": 64,
          "data": {
            "text/plain": "1.0"
          },
          "metadata": {}
        }
      ]
    },
    {
      "metadata": {
        "trusted": true
      },
      "cell_type": "code",
      "source": "",
      "execution_count": null,
      "outputs": []
    },
    {
      "metadata": {
        "trusted": true
      },
      "cell_type": "code",
      "source": "from sklearn.tree import DecisionTreeRegressor\nimport matplotlib.pyplot as plt\nfrom sklearn.model_selection import train_test_split\nfrom sklearn.model_selection import cross_val_score\nfrom sklearn.model_selection import GridSearchCV",
      "execution_count": 65,
      "outputs": []
    },
    {
      "metadata": {
        "trusted": true
      },
      "cell_type": "code",
      "source": "parameters = {'max_depth': [1,2,3,4,5,6,7,8,9,10]}",
      "execution_count": 66,
      "outputs": []
    },
    {
      "metadata": {
        "trusted": true
      },
      "cell_type": "code",
      "source": "scoring = ['accuracy']",
      "execution_count": 67,
      "outputs": []
    },
    {
      "metadata": {
        "trusted": true
      },
      "cell_type": "code",
      "source": "model = DecisionTreeClassifier(max_depth=4,random_state=42)",
      "execution_count": 68,
      "outputs": []
    },
    {
      "metadata": {
        "trusted": true
      },
      "cell_type": "code",
      "source": "model.fit(X_train,y_train)",
      "execution_count": 71,
      "outputs": [
        {
          "output_type": "execute_result",
          "execution_count": 71,
          "data": {
            "text/plain": "DecisionTreeClassifier(class_weight=None, criterion='gini', max_depth=4,\n            max_features=None, max_leaf_nodes=None,\n            min_impurity_decrease=0.0, min_impurity_split=None,\n            min_samples_leaf=1, min_samples_split=2,\n            min_weight_fraction_leaf=0.0, presort=False, random_state=42,\n            splitter='best')"
          },
          "metadata": {}
        }
      ]
    },
    {
      "metadata": {
        "trusted": true
      },
      "cell_type": "code",
      "source": "model.fit(X_train,y_train)",
      "execution_count": 72,
      "outputs": [
        {
          "output_type": "execute_result",
          "execution_count": 72,
          "data": {
            "text/plain": "DecisionTreeClassifier(class_weight=None, criterion='gini', max_depth=4,\n            max_features=None, max_leaf_nodes=None,\n            min_impurity_decrease=0.0, min_impurity_split=None,\n            min_samples_leaf=1, min_samples_split=2,\n            min_weight_fraction_leaf=0.0, presort=False, random_state=42,\n            splitter='best')"
          },
          "metadata": {}
        }
      ]
    },
    {
      "metadata": {
        "trusted": true
      },
      "cell_type": "code",
      "source": "pred_train = model.predict(X_train)",
      "execution_count": 73,
      "outputs": []
    },
    {
      "metadata": {
        "trusted": true
      },
      "cell_type": "code",
      "source": "accuracy_score(y_train,y_pred_train)*100",
      "execution_count": 75,
      "outputs": [
        {
          "output_type": "execute_result",
          "execution_count": 75,
          "data": {
            "text/plain": "81.80795409799178"
          },
          "metadata": {}
        }
      ]
    },
    {
      "metadata": {
        "trusted": true
      },
      "cell_type": "code",
      "source": "f1_score(y_train,pred_train)",
      "execution_count": 76,
      "outputs": [
        {
          "output_type": "execute_result",
          "execution_count": 76,
          "data": {
            "text/plain": "0.8947337582437614"
          },
          "metadata": {}
        }
      ]
    },
    {
      "metadata": {
        "trusted": true
      },
      "cell_type": "code",
      "source": "recall_score(y_train,pred_train)",
      "execution_count": 77,
      "outputs": [
        {
          "output_type": "execute_result",
          "execution_count": 77,
          "data": {
            "text/plain": "1.0"
          },
          "metadata": {}
        }
      ]
    },
    {
      "metadata": {
        "trusted": true
      },
      "cell_type": "code",
      "source": "",
      "execution_count": null,
      "outputs": []
    },
    {
      "metadata": {
        "trusted": true
      },
      "cell_type": "code",
      "source": "grid = GridSearchCV(model,parameters,cv=10,return_train_score=False)",
      "execution_count": 78,
      "outputs": []
    },
    {
      "metadata": {
        "trusted": true
      },
      "cell_type": "code",
      "source": "grid.fit(X_train,y_train)",
      "execution_count": 79,
      "outputs": [
        {
          "output_type": "execute_result",
          "execution_count": 79,
          "data": {
            "text/plain": "GridSearchCV(cv=10, error_score='raise-deprecating',\n       estimator=DecisionTreeClassifier(class_weight=None, criterion='gini', max_depth=4,\n            max_features=None, max_leaf_nodes=None,\n            min_impurity_decrease=0.0, min_impurity_split=None,\n            min_samples_leaf=1, min_samples_split=2,\n            min_weight_fraction_leaf=0.0, presort=False, random_state=42,\n            splitter='best'),\n       fit_params=None, iid='warn', n_jobs=None,\n       param_grid={'max_depth': [1, 2, 3, 4, 5, 6, 7, 8, 9, 10]},\n       pre_dispatch='2*n_jobs', refit=True, return_train_score=False,\n       scoring=None, verbose=0)"
          },
          "metadata": {}
        }
      ]
    },
    {
      "metadata": {
        "trusted": true
      },
      "cell_type": "code",
      "source": "grid.best_params_",
      "execution_count": 80,
      "outputs": [
        {
          "output_type": "execute_result",
          "execution_count": 80,
          "data": {
            "text/plain": "{'max_depth': 3}"
          },
          "metadata": {}
        }
      ]
    },
    {
      "metadata": {
        "trusted": true
      },
      "cell_type": "code",
      "source": "grid.best_score_",
      "execution_count": 81,
      "outputs": [
        {
          "output_type": "execute_result",
          "execution_count": 81,
          "data": {
            "text/plain": "0.8180795409799179"
          },
          "metadata": {}
        }
      ]
    },
    {
      "metadata": {
        "trusted": true
      },
      "cell_type": "code",
      "source": "pred_train = grid.predict(X_train)",
      "execution_count": 82,
      "outputs": []
    },
    {
      "metadata": {
        "trusted": true
      },
      "cell_type": "code",
      "source": "accuracy_score(y_train,pred_train)",
      "execution_count": 83,
      "outputs": [
        {
          "output_type": "execute_result",
          "execution_count": 83,
          "data": {
            "text/plain": "0.8180907914721269"
          },
          "metadata": {}
        }
      ]
    },
    {
      "metadata": {
        "trusted": true
      },
      "cell_type": "code",
      "source": "f1_score(y_train,pred_train)",
      "execution_count": 84,
      "outputs": [
        {
          "output_type": "execute_result",
          "execution_count": 84,
          "data": {
            "text/plain": "0.8947337582437614"
          },
          "metadata": {}
        }
      ]
    },
    {
      "metadata": {
        "trusted": true
      },
      "cell_type": "code",
      "source": "recall_score(y_train,pred_train)",
      "execution_count": 85,
      "outputs": [
        {
          "output_type": "execute_result",
          "execution_count": 85,
          "data": {
            "text/plain": "1.0"
          },
          "metadata": {}
        }
      ]
    },
    {
      "metadata": {
        "trusted": true
      },
      "cell_type": "code",
      "source": "from sklearn.metrics import confusion_matrix",
      "execution_count": 88,
      "outputs": []
    },
    {
      "metadata": {
        "trusted": true
      },
      "cell_type": "code",
      "source": "confusion_matrix(y_train,pred_train)",
      "execution_count": 89,
      "outputs": [
        {
          "output_type": "execute_result",
          "execution_count": 89,
          "data": {
            "text/plain": "array([[ 4000, 16169],\n       [    0, 68716]])"
          },
          "metadata": {}
        }
      ]
    },
    {
      "metadata": {
        "trusted": true
      },
      "cell_type": "code",
      "source": "",
      "execution_count": null,
      "outputs": []
    },
    {
      "metadata": {
        "trusted": true
      },
      "cell_type": "markdown",
      "source": "RANDOM FOREST"
    },
    {
      "metadata": {
        "trusted": true
      },
      "cell_type": "code",
      "source": "from sklearn.ensemble import RandomForestClassifier",
      "execution_count": 90,
      "outputs": []
    },
    {
      "metadata": {
        "trusted": true
      },
      "cell_type": "code",
      "source": "rfc = RandomForestClassifier(n_estimators=10).fit(X_train, y_train)",
      "execution_count": 91,
      "outputs": []
    },
    {
      "metadata": {
        "trusted": true
      },
      "cell_type": "code",
      "source": "rfc_pred = rfc.predict(X_train)",
      "execution_count": 92,
      "outputs": []
    },
    {
      "metadata": {
        "trusted": true
      },
      "cell_type": "code",
      "source": "accuracy_score(y_train, rfc_pred)",
      "execution_count": 93,
      "outputs": [
        {
          "output_type": "execute_result",
          "execution_count": 93,
          "data": {
            "text/plain": "0.9938684817460763"
          },
          "metadata": {}
        }
      ]
    },
    {
      "metadata": {
        "trusted": true
      },
      "cell_type": "code",
      "source": "f1_score(y_train, rfc_pred)",
      "execution_count": 94,
      "outputs": [
        {
          "output_type": "execute_result",
          "execution_count": 94,
          "data": {
            "text/plain": "0.996044964041829"
          },
          "metadata": {}
        }
      ]
    },
    {
      "metadata": {
        "trusted": true
      },
      "cell_type": "code",
      "source": "recall_score(y_train, rfc_pred)",
      "execution_count": 95,
      "outputs": [
        {
          "output_type": "execute_result",
          "execution_count": 95,
          "data": {
            "text/plain": "0.998704814017114"
          },
          "metadata": {}
        }
      ]
    },
    {
      "metadata": {
        "trusted": true
      },
      "cell_type": "code",
      "source": "confusion_matrix(y_train, rfc_pred)",
      "execution_count": 96,
      "outputs": [
        {
          "output_type": "execute_result",
          "execution_count": 96,
          "data": {
            "text/plain": "array([[19713,   456],\n       [   89, 68627]])"
          },
          "metadata": {}
        }
      ]
    },
    {
      "metadata": {
        "trusted": true
      },
      "cell_type": "code",
      "source": "rfc_pred_test = rfc.predict(X_test)",
      "execution_count": 97,
      "outputs": []
    },
    {
      "metadata": {
        "trusted": true
      },
      "cell_type": "code",
      "source": "accuracy_score(y_test,rfc_pred_test)",
      "execution_count": 98,
      "outputs": [
        {
          "output_type": "execute_result",
          "execution_count": 98,
          "data": {
            "text/plain": "0.8060030600306003"
          },
          "metadata": {}
        }
      ]
    },
    {
      "metadata": {
        "trusted": true
      },
      "cell_type": "code",
      "source": "confusion_matrix(y_test,rfc_pred_test)",
      "execution_count": 99,
      "outputs": [
        {
          "output_type": "execute_result",
          "execution_count": 99,
          "data": {
            "text/plain": "array([[ 1716,  3288],\n       [ 1023, 16195]])"
          },
          "metadata": {}
        }
      ]
    },
    {
      "metadata": {
        "trusted": true
      },
      "cell_type": "code",
      "source": "f1_score(y_test,rfc_pred_test)",
      "execution_count": 100,
      "outputs": [
        {
          "output_type": "execute_result",
          "execution_count": 100,
          "data": {
            "text/plain": "0.8825372605651073"
          },
          "metadata": {}
        }
      ]
    },
    {
      "metadata": {
        "trusted": true
      },
      "cell_type": "code",
      "source": "recall_score(y_test,rfc_pred_test)",
      "execution_count": 101,
      "outputs": [
        {
          "output_type": "execute_result",
          "execution_count": 101,
          "data": {
            "text/plain": "0.9405854338482983"
          },
          "metadata": {}
        }
      ]
    },
    {
      "metadata": {
        "trusted": true
      },
      "cell_type": "code",
      "source": "from sklearn.model_selection import GridSearchCV",
      "execution_count": 102,
      "outputs": []
    },
    {
      "metadata": {
        "trusted": true
      },
      "cell_type": "code",
      "source": "parameters = {'max_features':np.arange(1,10),'max_depth':np.arange(1,6)}",
      "execution_count": 103,
      "outputs": []
    },
    {
      "metadata": {
        "trusted": true
      },
      "cell_type": "code",
      "source": "tune_model = GridSearchCV(rfc,parameters,cv=10,scoring='accuracy')",
      "execution_count": 105,
      "outputs": []
    },
    {
      "metadata": {
        "trusted": true
      },
      "cell_type": "code",
      "source": "tune_model.fit(X_train,y_train)",
      "execution_count": 106,
      "outputs": [
        {
          "output_type": "execute_result",
          "execution_count": 106,
          "data": {
            "text/plain": "GridSearchCV(cv=10, error_score='raise-deprecating',\n       estimator=RandomForestClassifier(bootstrap=True, class_weight=None, criterion='gini',\n            max_depth=None, max_features='auto', max_leaf_nodes=None,\n            min_impurity_decrease=0.0, min_impurity_split=None,\n            min_samples_leaf=1, min_samples_split=2,\n            min_weight_fraction_leaf=0.0, n_estimators=10, n_jobs=None,\n            oob_score=False, random_state=None, verbose=0,\n            warm_start=False),\n       fit_params=None, iid='warn', n_jobs=None,\n       param_grid={'max_features': array([1, 2, 3, 4, 5, 6, 7, 8, 9]), 'max_depth': array([1, 2, 3, 4, 5])},\n       pre_dispatch='2*n_jobs', refit=True, return_train_score='warn',\n       scoring='accuracy', verbose=0)"
          },
          "metadata": {}
        }
      ]
    },
    {
      "metadata": {
        "trusted": true
      },
      "cell_type": "code",
      "source": "tune_model.best_params_",
      "execution_count": 107,
      "outputs": [
        {
          "output_type": "execute_result",
          "execution_count": 107,
          "data": {
            "text/plain": "{'max_depth': 5, 'max_features': 9}"
          },
          "metadata": {}
        }
      ]
    },
    {
      "metadata": {
        "trusted": true
      },
      "cell_type": "code",
      "source": "tune_model.best_score_",
      "execution_count": 108,
      "outputs": [
        {
          "output_type": "execute_result",
          "execution_count": 108,
          "data": {
            "text/plain": "0.8180795409799179"
          },
          "metadata": {}
        }
      ]
    },
    {
      "metadata": {
        "trusted": true
      },
      "cell_type": "code",
      "source": "y_pred_tr = tune_model.predict(X_train)",
      "execution_count": 109,
      "outputs": []
    },
    {
      "metadata": {
        "trusted": true
      },
      "cell_type": "code",
      "source": "accuracy_score(y_train,y_pred_tr)",
      "execution_count": 110,
      "outputs": [
        {
          "output_type": "execute_result",
          "execution_count": 110,
          "data": {
            "text/plain": "0.8182595488552624"
          },
          "metadata": {}
        }
      ]
    },
    {
      "metadata": {
        "trusted": true
      },
      "cell_type": "code",
      "source": "confusion_matrix(y_train,y_pred_tr)",
      "execution_count": 111,
      "outputs": [
        {
          "output_type": "execute_result",
          "execution_count": 111,
          "data": {
            "text/plain": "array([[ 4016, 16153],\n       [    1, 68715]])"
          },
          "metadata": {}
        }
      ]
    },
    {
      "metadata": {
        "trusted": true
      },
      "cell_type": "code",
      "source": "f1_score(y_train,y_pred_tr)",
      "execution_count": 112,
      "outputs": [
        {
          "output_type": "execute_result",
          "execution_count": 112,
          "data": {
            "text/plain": "0.8948197728930098"
          },
          "metadata": {}
        }
      ]
    },
    {
      "metadata": {
        "trusted": true
      },
      "cell_type": "code",
      "source": "recall_score(y_train,y_pred_tr)",
      "execution_count": 113,
      "outputs": [
        {
          "output_type": "execute_result",
          "execution_count": 113,
          "data": {
            "text/plain": "0.9999854473485069"
          },
          "metadata": {}
        }
      ]
    },
    {
      "metadata": {},
      "cell_type": "markdown",
      "source": "RESAMPLING TECHNIQUE"
    },
    {
      "metadata": {
        "trusted": true
      },
      "cell_type": "code",
      "source": "from sklearn.utils import resample",
      "execution_count": 114,
      "outputs": []
    },
    {
      "metadata": {
        "trusted": true
      },
      "cell_type": "code",
      "source": "X = pd.concat([X_train, y_train], axis=1)",
      "execution_count": 115,
      "outputs": []
    },
    {
      "metadata": {
        "trusted": true
      },
      "cell_type": "code",
      "source": "X.head()",
      "execution_count": 116,
      "outputs": [
        {
          "output_type": "execute_result",
          "execution_count": 116,
          "data": {
            "text/html": "<div>\n<style scoped>\n    .dataframe tbody tr th:only-of-type {\n        vertical-align: middle;\n    }\n\n    .dataframe tbody tr th {\n        vertical-align: top;\n    }\n\n    .dataframe thead th {\n        text-align: right;\n    }\n</style>\n<table border=\"1\" class=\"dataframe\">\n  <thead>\n    <tr style=\"text-align: right;\">\n      <th></th>\n      <th>Current.Loan.Amount</th>\n      <th>Credit.Score</th>\n      <th>Years.in.current.job</th>\n      <th>Annual.Income</th>\n      <th>Monthly.Debt</th>\n      <th>Years.of.Credit.History</th>\n      <th>Months.since.last.delinquent</th>\n      <th>Number.of.Open.Accounts</th>\n      <th>Number.of.Credit.Problems</th>\n      <th>Current.Credit.Balance</th>\n      <th>...</th>\n      <th>Purpose_Medical_Bills</th>\n      <th>Purpose_Other</th>\n      <th>Purpose_Take_a_Trip</th>\n      <th>Purpose_major_purchase</th>\n      <th>Purpose_moving</th>\n      <th>Purpose_renewable_energy</th>\n      <th>Purpose_small_business</th>\n      <th>Purpose_vacation</th>\n      <th>Purpose_wedding</th>\n      <th>Loan.Status</th>\n    </tr>\n  </thead>\n  <tbody>\n    <tr>\n      <th>25947</th>\n      <td>10119.0</td>\n      <td>1259.188885</td>\n      <td>6.0</td>\n      <td>68140.055741</td>\n      <td>1028.09</td>\n      <td>17.3</td>\n      <td>32.000000</td>\n      <td>13.0</td>\n      <td>0.0</td>\n      <td>13209.0</td>\n      <td>...</td>\n      <td>0.0</td>\n      <td>0.0</td>\n      <td>0.0</td>\n      <td>0.0</td>\n      <td>0.0</td>\n      <td>0.0</td>\n      <td>0.0</td>\n      <td>0.0</td>\n      <td>0.0</td>\n      <td>0</td>\n    </tr>\n    <tr>\n      <th>6623</th>\n      <td>99999999.0</td>\n      <td>748.000000</td>\n      <td>4.0</td>\n      <td>84112.000000</td>\n      <td>473.14</td>\n      <td>24.6</td>\n      <td>32.730635</td>\n      <td>10.0</td>\n      <td>0.0</td>\n      <td>7539.0</td>\n      <td>...</td>\n      <td>0.0</td>\n      <td>0.0</td>\n      <td>0.0</td>\n      <td>0.0</td>\n      <td>0.0</td>\n      <td>0.0</td>\n      <td>0.0</td>\n      <td>0.0</td>\n      <td>0.0</td>\n      <td>1</td>\n    </tr>\n    <tr>\n      <th>65648</th>\n      <td>16122.0</td>\n      <td>741.000000</td>\n      <td>9.0</td>\n      <td>115874.000000</td>\n      <td>652.75</td>\n      <td>17.1</td>\n      <td>32.000000</td>\n      <td>4.0</td>\n      <td>0.0</td>\n      <td>20363.0</td>\n      <td>...</td>\n      <td>0.0</td>\n      <td>0.0</td>\n      <td>0.0</td>\n      <td>0.0</td>\n      <td>0.0</td>\n      <td>0.0</td>\n      <td>0.0</td>\n      <td>0.0</td>\n      <td>0.0</td>\n      <td>1</td>\n    </tr>\n    <tr>\n      <th>10121</th>\n      <td>99999999.0</td>\n      <td>729.000000</td>\n      <td>1.0</td>\n      <td>101860.000000</td>\n      <td>1111.98</td>\n      <td>22.6</td>\n      <td>53.000000</td>\n      <td>10.0</td>\n      <td>0.0</td>\n      <td>8166.0</td>\n      <td>...</td>\n      <td>0.0</td>\n      <td>0.0</td>\n      <td>0.0</td>\n      <td>0.0</td>\n      <td>0.0</td>\n      <td>0.0</td>\n      <td>0.0</td>\n      <td>0.0</td>\n      <td>0.0</td>\n      <td>1</td>\n    </tr>\n    <tr>\n      <th>20076</th>\n      <td>9588.0</td>\n      <td>1055.137054</td>\n      <td>2.0</td>\n      <td>75545.342679</td>\n      <td>858.79</td>\n      <td>31.1</td>\n      <td>32.054313</td>\n      <td>5.0</td>\n      <td>0.0</td>\n      <td>2014.0</td>\n      <td>...</td>\n      <td>0.0</td>\n      <td>1.0</td>\n      <td>0.0</td>\n      <td>0.0</td>\n      <td>0.0</td>\n      <td>0.0</td>\n      <td>0.0</td>\n      <td>0.0</td>\n      <td>0.0</td>\n      <td>0</td>\n    </tr>\n  </tbody>\n</table>\n<p>5 rows × 32 columns</p>\n</div>",
            "text/plain": "       Current.Loan.Amount  Credit.Score  Years.in.current.job  Annual.Income  \\\n25947              10119.0   1259.188885                   6.0   68140.055741   \n6623            99999999.0    748.000000                   4.0   84112.000000   \n65648              16122.0    741.000000                   9.0  115874.000000   \n10121           99999999.0    729.000000                   1.0  101860.000000   \n20076               9588.0   1055.137054                   2.0   75545.342679   \n\n       Monthly.Debt  Years.of.Credit.History  Months.since.last.delinquent  \\\n25947       1028.09                     17.3                     32.000000   \n6623         473.14                     24.6                     32.730635   \n65648        652.75                     17.1                     32.000000   \n10121       1111.98                     22.6                     53.000000   \n20076        858.79                     31.1                     32.054313   \n\n       Number.of.Open.Accounts  Number.of.Credit.Problems  \\\n25947                     13.0                        0.0   \n6623                      10.0                        0.0   \n65648                      4.0                        0.0   \n10121                     10.0                        0.0   \n20076                      5.0                        0.0   \n\n       Current.Credit.Balance     ...       Purpose_Medical_Bills  \\\n25947                 13209.0     ...                         0.0   \n6623                   7539.0     ...                         0.0   \n65648                 20363.0     ...                         0.0   \n10121                  8166.0     ...                         0.0   \n20076                  2014.0     ...                         0.0   \n\n       Purpose_Other  Purpose_Take_a_Trip  Purpose_major_purchase  \\\n25947            0.0                  0.0                     0.0   \n6623             0.0                  0.0                     0.0   \n65648            0.0                  0.0                     0.0   \n10121            0.0                  0.0                     0.0   \n20076            1.0                  0.0                     0.0   \n\n       Purpose_moving  Purpose_renewable_energy  Purpose_small_business  \\\n25947             0.0                       0.0                     0.0   \n6623              0.0                       0.0                     0.0   \n65648             0.0                       0.0                     0.0   \n10121             0.0                       0.0                     0.0   \n20076             0.0                       0.0                     0.0   \n\n       Purpose_vacation  Purpose_wedding  Loan.Status  \n25947               0.0              0.0            0  \n6623                0.0              0.0            1  \n65648               0.0              0.0            1  \n10121               0.0              0.0            1  \n20076               0.0              0.0            0  \n\n[5 rows x 32 columns]"
          },
          "metadata": {}
        }
      ]
    },
    {
      "metadata": {
        "trusted": true
      },
      "cell_type": "code",
      "source": "not_default = X[X[\"Loan.Status\"]==0]",
      "execution_count": 118,
      "outputs": []
    },
    {
      "metadata": {
        "trusted": true
      },
      "cell_type": "code",
      "source": "default = X[X[\"Loan.Status\"]==1]",
      "execution_count": 119,
      "outputs": []
    },
    {
      "metadata": {
        "trusted": true
      },
      "cell_type": "code",
      "source": "X['Loan.Status'].value_counts()",
      "execution_count": 120,
      "outputs": [
        {
          "output_type": "execute_result",
          "execution_count": 120,
          "data": {
            "text/plain": "1    68716\n0    20169\nName: Loan.Status, dtype: int64"
          },
          "metadata": {}
        }
      ]
    },
    {
      "metadata": {
        "trusted": true
      },
      "cell_type": "code",
      "source": "notdefault_upsampled = resample(not_default,\n                          replace=True, # sample with replacement\n                          n_samples=len(default), # match number in majority class\n                          random_state=27) # reproducible results",
      "execution_count": 121,
      "outputs": []
    },
    {
      "metadata": {
        "trusted": true
      },
      "cell_type": "code",
      "source": "upsampled = pd.concat([notdefault_upsampled, default])",
      "execution_count": 122,
      "outputs": []
    },
    {
      "metadata": {
        "trusted": true
      },
      "cell_type": "code",
      "source": "upsampled['Loan.Status'].value_counts()",
      "execution_count": 123,
      "outputs": [
        {
          "output_type": "execute_result",
          "execution_count": 123,
          "data": {
            "text/plain": "1    68716\n0    68716\nName: Loan.Status, dtype: int64"
          },
          "metadata": {}
        }
      ]
    },
    {
      "metadata": {
        "trusted": true
      },
      "cell_type": "code",
      "source": "y_train = upsampled['Loan.Status']\nX_train = upsampled.drop(\"Loan.Status\", axis=1)",
      "execution_count": 125,
      "outputs": []
    },
    {
      "metadata": {
        "trusted": true
      },
      "cell_type": "code",
      "source": "upsampled = LogisticRegression(solver='liblinear').fit(X_train, y_train)",
      "execution_count": 126,
      "outputs": []
    },
    {
      "metadata": {
        "trusted": true
      },
      "cell_type": "code",
      "source": "upsampled_pred = upsampled.predict(X_train)",
      "execution_count": 127,
      "outputs": []
    },
    {
      "metadata": {
        "trusted": true
      },
      "cell_type": "code",
      "source": "accuracy_score(y_train,upsampled_pred)",
      "execution_count": 129,
      "outputs": [
        {
          "output_type": "execute_result",
          "execution_count": 129,
          "data": {
            "text/plain": "0.6248399208335759"
          },
          "metadata": {}
        }
      ]
    },
    {
      "metadata": {
        "trusted": true
      },
      "cell_type": "code",
      "source": "f1_score(y_train,upsampled_pred)",
      "execution_count": 130,
      "outputs": [
        {
          "output_type": "execute_result",
          "execution_count": 130,
          "data": {
            "text/plain": "0.6082291706242163"
          },
          "metadata": {}
        }
      ]
    },
    {
      "metadata": {
        "trusted": true
      },
      "cell_type": "code",
      "source": "recall_score(y_train,upsampled_pred)",
      "execution_count": 131,
      "outputs": [
        {
          "output_type": "execute_result",
          "execution_count": 131,
          "data": {
            "text/plain": "0.582440770708423"
          },
          "metadata": {}
        }
      ]
    },
    {
      "metadata": {
        "trusted": true
      },
      "cell_type": "code",
      "source": "",
      "execution_count": null,
      "outputs": []
    },
    {
      "metadata": {
        "trusted": true
      },
      "cell_type": "code",
      "source": "default_downsampled = resample(default,\n                                replace = False, # sample without replacement\n                                n_samples = len(not_default), # match minority n\n                                random_state = 27) # reproducible results\n",
      "execution_count": 132,
      "outputs": []
    },
    {
      "metadata": {
        "trusted": true
      },
      "cell_type": "code",
      "source": "downsampled = pd.concat([not_default, default])",
      "execution_count": 133,
      "outputs": []
    },
    {
      "metadata": {
        "trusted": true
      },
      "cell_type": "code",
      "source": "downsampled['Loan.Status'].value_counts()",
      "execution_count": 134,
      "outputs": [
        {
          "output_type": "execute_result",
          "execution_count": 134,
          "data": {
            "text/plain": "1    68716\n0    20169\nName: Loan.Status, dtype: int64"
          },
          "metadata": {}
        }
      ]
    },
    {
      "metadata": {
        "trusted": true
      },
      "cell_type": "code",
      "source": "",
      "execution_count": null,
      "outputs": []
    },
    {
      "metadata": {
        "trusted": true
      },
      "cell_type": "code",
      "source": "",
      "execution_count": null,
      "outputs": []
    },
    {
      "metadata": {
        "trusted": true
      },
      "cell_type": "code",
      "source": "",
      "execution_count": null,
      "outputs": []
    },
    {
      "metadata": {
        "trusted": true
      },
      "cell_type": "code",
      "source": "",
      "execution_count": null,
      "outputs": []
    },
    {
      "metadata": {
        "trusted": true
      },
      "cell_type": "code",
      "source": "",
      "execution_count": null,
      "outputs": []
    },
    {
      "metadata": {
        "trusted": true
      },
      "cell_type": "code",
      "source": "",
      "execution_count": null,
      "outputs": []
    },
    {
      "metadata": {
        "trusted": true
      },
      "cell_type": "code",
      "source": "",
      "execution_count": null,
      "outputs": []
    },
    {
      "metadata": {
        "trusted": true
      },
      "cell_type": "code",
      "source": "",
      "execution_count": null,
      "outputs": []
    },
    {
      "metadata": {},
      "cell_type": "markdown",
      "source": "USING ANN"
    },
    {
      "metadata": {
        "trusted": true
      },
      "cell_type": "code",
      "source": "X = X.values",
      "execution_count": 124,
      "outputs": []
    },
    {
      "metadata": {
        "trusted": true
      },
      "cell_type": "code",
      "source": "y = y.values",
      "execution_count": 125,
      "outputs": []
    },
    {
      "metadata": {
        "trusted": true
      },
      "cell_type": "code",
      "source": "from sklearn.preprocessing import OneHotEncoder",
      "execution_count": 126,
      "outputs": []
    },
    {
      "metadata": {
        "trusted": true
      },
      "cell_type": "code",
      "source": "onehotencoder = OneHotEncoder(categorical_features = [1])",
      "execution_count": 127,
      "outputs": []
    },
    {
      "metadata": {
        "trusted": true
      },
      "cell_type": "code",
      "source": "X = onehotencoder.fit_transform(X).toarray()",
      "execution_count": 128,
      "outputs": [
        {
          "output_type": "stream",
          "text": "/home/nbuser/anaconda3_501/lib/python3.6/site-packages/sklearn/preprocessing/_encoders.py:371: FutureWarning: The handling of integer data will change in version 0.22. Currently, the categories are determined based on the range [0, max(values)], while in the future they will be determined based on the unique values.\nIf you want the future behaviour and silence this warning, you can specify \"categories='auto'\".\nIn case you used a LabelEncoder before this OneHotEncoder to convert the categories to integers, then you can now use the OneHotEncoder directly.\n  warnings.warn(msg, FutureWarning)\n",
          "name": "stderr"
        }
      ]
    },
    {
      "metadata": {
        "trusted": true
      },
      "cell_type": "code",
      "source": "X_train, X_test, y_train, y_test = train_test_split(X, y, test_size = 0.2, random_state = 0)",
      "execution_count": 129,
      "outputs": []
    },
    {
      "metadata": {
        "trusted": true
      },
      "cell_type": "code",
      "source": "from sklearn.preprocessing import StandardScaler\nsc = StandardScaler()\nX_train = sc.fit_transform(X_train)\nX_test = sc.transform(X_test)",
      "execution_count": 130,
      "outputs": []
    },
    {
      "metadata": {
        "trusted": true
      },
      "cell_type": "code",
      "source": "import keras\nfrom keras.models import Sequential\nfrom keras.layers import Dense",
      "execution_count": 131,
      "outputs": []
    },
    {
      "metadata": {
        "trusted": true
      },
      "cell_type": "code",
      "source": "classifier = Sequential()",
      "execution_count": 132,
      "outputs": []
    },
    {
      "metadata": {
        "trusted": true
      },
      "cell_type": "code",
      "source": "classifier.add(Dense(output_dim = 30, init = 'uniform', activation = 'relu', input_dim = 785))",
      "execution_count": 133,
      "outputs": [
        {
          "output_type": "stream",
          "text": "/home/nbuser/anaconda3_501/lib/python3.6/site-packages/ipykernel/__main__.py:1: UserWarning: Update your `Dense` call to the Keras 2 API: `Dense(activation=\"relu\", input_dim=785, units=30, kernel_initializer=\"uniform\")`\n  if __name__ == '__main__':\n",
          "name": "stderr"
        }
      ]
    },
    {
      "metadata": {
        "trusted": true
      },
      "cell_type": "code",
      "source": "classifier.add(Dense(output_dim = 30, init = 'uniform', activation = 'relu'))",
      "execution_count": 134,
      "outputs": [
        {
          "output_type": "stream",
          "text": "/home/nbuser/anaconda3_501/lib/python3.6/site-packages/ipykernel/__main__.py:1: UserWarning: Update your `Dense` call to the Keras 2 API: `Dense(activation=\"relu\", units=30, kernel_initializer=\"uniform\")`\n  if __name__ == '__main__':\n",
          "name": "stderr"
        }
      ]
    },
    {
      "metadata": {
        "trusted": true
      },
      "cell_type": "code",
      "source": "classifier.add(Dense(output_dim = 30, init = 'uniform', activation = 'relu'))",
      "execution_count": 135,
      "outputs": [
        {
          "output_type": "stream",
          "text": "/home/nbuser/anaconda3_501/lib/python3.6/site-packages/ipykernel/__main__.py:1: UserWarning: Update your `Dense` call to the Keras 2 API: `Dense(activation=\"relu\", units=30, kernel_initializer=\"uniform\")`\n  if __name__ == '__main__':\n",
          "name": "stderr"
        }
      ]
    },
    {
      "metadata": {
        "trusted": true
      },
      "cell_type": "code",
      "source": "classifier.add(Dense(output_dim = 1, init = 'uniform', activation = 'sigmoid'))",
      "execution_count": 136,
      "outputs": [
        {
          "output_type": "stream",
          "text": "/home/nbuser/anaconda3_501/lib/python3.6/site-packages/ipykernel/__main__.py:1: UserWarning: Update your `Dense` call to the Keras 2 API: `Dense(activation=\"sigmoid\", units=1, kernel_initializer=\"uniform\")`\n  if __name__ == '__main__':\n",
          "name": "stderr"
        }
      ]
    },
    {
      "metadata": {
        "trusted": true
      },
      "cell_type": "code",
      "source": "classifier.compile(optimizer = 'adam', loss = 'binary_crossentropy', metrics = ['accuracy'])",
      "execution_count": 137,
      "outputs": []
    },
    {
      "metadata": {
        "trusted": true
      },
      "cell_type": "code",
      "source": "classifier.fit(X_train, y_train,batch_size=10, nb_epoch = 25)",
      "execution_count": 138,
      "outputs": [
        {
          "output_type": "stream",
          "text": "/home/nbuser/anaconda3_501/lib/python3.6/site-packages/ipykernel/__main__.py:1: UserWarning: The `nb_epoch` argument in `fit` has been renamed `epochs`.\n  if __name__ == '__main__':\n",
          "name": "stderr"
        },
        {
          "output_type": "stream",
          "text": "Epoch 1/25\n88885/88885 [==============================] - 43s 480us/step - loss: 0.4446 - acc: 0.8132\nEpoch 2/25\n88885/88885 [==============================] - 41s 459us/step - loss: 0.4272 - acc: 0.8182\nEpoch 3/25\n88885/88885 [==============================] - 42s 471us/step - loss: 0.4248 - acc: 0.8186\nEpoch 4/25\n88885/88885 [==============================] - 42s 469us/step - loss: 0.4232 - acc: 0.8189\nEpoch 5/25\n88885/88885 [==============================] - 46s 512us/step - loss: 0.4216 - acc: 0.8189\nEpoch 6/25\n88885/88885 [==============================] - 45s 503us/step - loss: 0.4202 - acc: 0.8190\nEpoch 7/25\n88885/88885 [==============================] - 46s 516us/step - loss: 0.4184 - acc: 0.8192\nEpoch 8/25\n88885/88885 [==============================] - 44s 495us/step - loss: 0.4167 - acc: 0.8193\nEpoch 9/25\n88885/88885 [==============================] - 49s 550us/step - loss: 0.4149 - acc: 0.81990s - loss: 0.4148\nEpoch 10/25\n88885/88885 [==============================] - 46s 522us/step - loss: 0.4134 - acc: 0.8199\nEpoch 11/25\n88885/88885 [==============================] - 43s 482us/step - loss: 0.4119 - acc: 0.8207\nEpoch 12/25\n88885/88885 [==============================] - 42s 471us/step - loss: 0.4100 - acc: 0.8212\nEpoch 13/25\n88885/88885 [==============================] - 39s 441us/step - loss: 0.4094 - acc: 0.8223\nEpoch 14/25\n88885/88885 [==============================] - 46s 514us/step - loss: 0.4076 - acc: 0.8222\nEpoch 15/25\n88885/88885 [==============================] - 46s 518us/step - loss: 0.4063 - acc: 0.8236\nEpoch 16/25\n88885/88885 [==============================] - 44s 494us/step - loss: 0.4057 - acc: 0.8241\nEpoch 17/25\n88885/88885 [==============================] - 43s 483us/step - loss: 0.4040 - acc: 0.8247\nEpoch 18/25\n88885/88885 [==============================] - 42s 475us/step - loss: 0.4025 - acc: 0.8251\nEpoch 19/25\n88885/88885 [==============================] - 46s 518us/step - loss: 0.4015 - acc: 0.8258\nEpoch 20/25\n88885/88885 [==============================] - 42s 478us/step - loss: 0.4001 - acc: 0.8261\nEpoch 21/25\n88885/88885 [==============================] - 40s 448us/step - loss: 0.3991 - acc: 0.8264\nEpoch 22/25\n88885/88885 [==============================] - 41s 464us/step - loss: 0.3981 - acc: 0.8270\nEpoch 23/25\n88885/88885 [==============================] - 41s 457us/step - loss: 0.3970 - acc: 0.8271\nEpoch 24/25\n88885/88885 [==============================] - 41s 457us/step - loss: 0.3962 - acc: 0.8273\nEpoch 25/25\n88885/88885 [==============================] - 48s 538us/step - loss: 0.3952 - acc: 0.8287\n",
          "name": "stdout"
        },
        {
          "output_type": "execute_result",
          "execution_count": 138,
          "data": {
            "text/plain": "<keras.callbacks.History at 0x7f6d0b1fab00>"
          },
          "metadata": {}
        }
      ]
    },
    {
      "metadata": {
        "trusted": true
      },
      "cell_type": "code",
      "source": "y_pred_train = classifier.predict(X_train)\ny_pred_train = (y_pred_train > 0.5)",
      "execution_count": 139,
      "outputs": []
    },
    {
      "metadata": {
        "trusted": true
      },
      "cell_type": "code",
      "source": "from sklearn.metrics import confusion_matrix\ncm = confusion_matrix(y_train, y_pred_train)",
      "execution_count": 140,
      "outputs": []
    },
    {
      "metadata": {
        "trusted": true
      },
      "cell_type": "code",
      "source": "cm",
      "execution_count": 141,
      "outputs": [
        {
          "output_type": "execute_result",
          "execution_count": 141,
          "data": {
            "text/plain": "array([[ 5973, 14196],\n       [  748, 67968]])"
          },
          "metadata": {}
        }
      ]
    },
    {
      "metadata": {
        "trusted": true
      },
      "cell_type": "code",
      "source": "(5973+67968)/(5973+14196+748+67968)",
      "execution_count": 142,
      "outputs": [
        {
          "output_type": "execute_result",
          "execution_count": 142,
          "data": {
            "text/plain": "0.8318726444281938"
          },
          "metadata": {}
        }
      ]
    },
    {
      "metadata": {
        "trusted": true
      },
      "cell_type": "code",
      "source": "y_pred_test = classifier.predict(X_test)\ny_pred_test = (y_pred_test > 0.5)",
      "execution_count": 143,
      "outputs": []
    },
    {
      "metadata": {
        "trusted": true
      },
      "cell_type": "code",
      "source": "from sklearn.metrics import confusion_matrix\ncm = confusion_matrix(y_test, y_pred_test)",
      "execution_count": 144,
      "outputs": []
    },
    {
      "metadata": {
        "trusted": true
      },
      "cell_type": "code",
      "source": "cm",
      "execution_count": 145,
      "outputs": [
        {
          "output_type": "execute_result",
          "execution_count": 145,
          "data": {
            "text/plain": "array([[ 1309,  3695],\n       [  361, 16857]])"
          },
          "metadata": {}
        }
      ]
    },
    {
      "metadata": {
        "trusted": true
      },
      "cell_type": "code",
      "source": "(1309+16857)/(1309+3695+361+16857)",
      "execution_count": 146,
      "outputs": [
        {
          "output_type": "execute_result",
          "execution_count": 146,
          "data": {
            "text/plain": "0.8174781747817478"
          },
          "metadata": {}
        }
      ]
    }
  ],
  "metadata": {
    "kernelspec": {
      "name": "python36",
      "display_name": "Python 3.6",
      "language": "python"
    },
    "language_info": {
      "mimetype": "text/x-python",
      "nbconvert_exporter": "python",
      "name": "python",
      "pygments_lexer": "ipython3",
      "version": "3.6.6",
      "file_extension": ".py",
      "codemirror_mode": {
        "version": 3,
        "name": "ipython"
      }
    }
  },
  "nbformat": 4,
  "nbformat_minor": 2
}